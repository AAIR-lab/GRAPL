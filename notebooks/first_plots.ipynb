{
 "cells": [
  {
   "cell_type": "code",
   "execution_count": null,
   "id": "c0f60caa",
   "metadata": {},
   "outputs": [],
   "source": [
    "import matplotlib.pyplot as plt\n",
    "import csv"
   ]
  },
  {
   "cell_type": "code",
   "execution_count": null,
   "id": "e63f7877",
   "metadata": {},
   "outputs": [],
   "source": [
    "RESULTS_DIR = \"/home/local/ASUAD/rkaria/work/git/temp/results/\""
   ]
  },
  {
   "cell_type": "code",
   "execution_count": null,
   "id": "54378d6c",
   "metadata": {},
   "outputs": [],
   "source": [
    "def get_data(csv_file, key, filter_func = lambda x: True):\n",
    "    \n",
    "    x = []\n",
    "    y = []\n",
    "    csv_reader = csv.DictReader(open(csv_file, \"r\"), delimiter=\";\")\n",
    "    for row in csv_reader:\n",
    "        _x = int(row[\"Interaction\"])\n",
    "        if filter_func(_x):\n",
    "            x.append(_x)\n",
    "            y.append(float(row[key]))\n",
    "            \n",
    "    return x, y\n",
    "\n",
    "def plot(data, ylabel, title, output_filepath, xlabel=\"Interaction #\"):\n",
    "    \n",
    "    fig, ax = plt.subplots()\n",
    "    \n",
    "    for label in data:\n",
    "        \n",
    "        x, y, = data[label][\"x\"], data[label][\"y\"]\n",
    "        ax.plot(x, y, label=label)\n",
    "    \n",
    "    ax.set_ylabel(ylabel)\n",
    "    ax.set_xlabel(xlabel)\n",
    "    ax.set_title(title)\n",
    "    ax.legend()\n",
    "    \n",
    "    fig.savefig(output_filepath)\n",
    "    pass"
   ]
  },
  {
   "cell_type": "code",
   "execution_count": null,
   "id": "724bfa3b",
   "metadata": {},
   "outputs": [],
   "source": [
    "KEYS = {\n",
    "    \n",
    "    \"Success Rate\": [\"success_rate\"],\n",
    "    \"Variational Difference (Samples)\": [\"variational_difference\"],\n",
    "    \"Elapsed Time\": [\"elapsed_time\"]\n",
    "    \n",
    "}\n",
    "\n",
    "for domain in [\"tireworld\", \"tireworld_og\", \"explodingblocks\", \"explodingblocks_og\"]:\n",
    "    saia_filepath = \"%s/%s/saia_%s.csv\" % (RESULTS_DIR, domain, domain)\n",
    "    glib_g1_filepath = \"%s/glib_%s_glib_g1_lndr.csv\" % (RESULTS_DIR, domain)\n",
    "    glib_l2_filepath = \"%s/glib_%s_glib_l2_lndr.csv\" % (RESULTS_DIR, domain)\n",
    "    \n",
    "    for key in KEYS:\n",
    "        \n",
    "        data = {}\n",
    "        \n",
    "        fileprefix = KEYS[key][0]\n",
    "        output_filepath = \"%s/%s_%s.png\" % (RESULTS_DIR, domain, fileprefix)\n",
    "        \n",
    "        x, y = get_data(saia_filepath, key)\n",
    "        filter_func = lambda y: y <= max(x)\n",
    "        \n",
    "        data[\"SAIA\"] = {\n",
    "            \"x\": x,\n",
    "            \"y\": y\n",
    "        }\n",
    "        \n",
    "        x, y = get_data(glib_g1_filepath, key)\n",
    "        data[\"GLIB (G1)\"] = {\n",
    "            \"x\": x,\n",
    "            \"y\": y\n",
    "        }\n",
    "        \n",
    "        x, y = get_data(glib_l2_filepath, key)\n",
    "        data[\"GLIB (L2)\"] = {\n",
    "            \"x\": x,\n",
    "            \"y\": y\n",
    "        }\n",
    "        \n",
    "        plot(data, key, domain, output_filepath)\n",
    "        "
   ]
  }
 ],
 "metadata": {
  "kernelspec": {
   "display_name": "Python 3 (ipykernel)",
   "language": "python",
   "name": "python3"
  },
  "language_info": {
   "codemirror_mode": {
    "name": "ipython",
    "version": 3
   },
   "file_extension": ".py",
   "mimetype": "text/x-python",
   "name": "python",
   "nbconvert_exporter": "python",
   "pygments_lexer": "ipython3",
   "version": "3.8.10"
  }
 },
 "nbformat": 4,
 "nbformat_minor": 5
}

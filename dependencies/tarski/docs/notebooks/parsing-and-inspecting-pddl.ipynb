{
 "cells": [
  {
   "cell_type": "markdown",
   "metadata": {},
   "source": [
    "# Parsing and Inspecting PDDL problems\n",
    "\n",
    "Let's use the built-in PDDL parser to inspect some problem encoded in PDDL:"
   ]
  },
  {
   "cell_type": "code",
   "execution_count": 16,
   "metadata": {
    "pycharm": {
     "is_executing": false,
     "name": "#%%\n"
    }
   },
   "outputs": [],
   "source": [
    "from tarski.io import PDDLReader\n",
    "reader = PDDLReader(raise_on_error=True)\n",
    "reader.parse_domain('./benchmarks/blocksworld.pddl')\n",
    "problem = reader.parse_instance('./benchmarks/probBLOCKS-4-2.pddl')\n",
    "lang = problem.language"
   ]
  },
  {
   "cell_type": "markdown",
   "metadata": {},
   "source": [
    "Notice how the parsing of a standard instance of the Blocks world results in\n",
    "a _problem_ object and, within that problem, a _language_ object. There\n",
    "is a clear distinction in Tarski between the language used to define a planning\n",
    "problem, and the problem itself. Tarski sticks as close as possible to the\n",
    "standard definition of\n",
    "[many-sorted first-order languages](https://en.wikipedia.org/wiki/First-order_logic#Many-sorted_logic).\n",
    "Hence, languages have a vocabulary made up of predicate and function names,\n",
    "each with their arity and sort, and allow the definition of terms and formulas\n",
    "in the usual manner. Let us inspect the language of the problem we just parsed: "
   ]
  },
  {
   "cell_type": "code",
   "execution_count": 17,
   "metadata": {
    "pycharm": {
     "is_executing": false,
     "name": "#%%\n"
    }
   },
   "outputs": [
    {
     "name": "stdout",
     "output_type": "stream",
     "text": [
      "[Sort(object)]\n",
      "[=/2, !=/2, on/2, ontable/1, clear/1, handempty/0, holding/1]\n",
      "[]\n"
     ]
    }
   ],
   "source": [
    "print(lang.sorts)\n",
    "print(lang.predicates)\n",
    "print(lang.functions)"
   ]
  },
  {
   "cell_type": "markdown",
   "metadata": {},
   "source": [
    "Turns out that our blocks encoding has one single sort `object` (the default\n",
    "sort in PDDL when no sort is declared), no functions, and a few predicates.\n",
    "Besides the predicates defined in the PDDL file, Tarski assumes (unless explicitly\n",
    "disallowed) the existence of a built-in equality predicate and its negation.\n",
    "A string `clear/1` denotes a predicate named `clear` with arity 1. \n",
    "\n",
    "Constants are usually considered as nullary functions in the literature, but in\n",
    "Tarski they are stored separately:"
   ]
  },
  {
   "cell_type": "code",
   "execution_count": 18,
   "metadata": {
    "pycharm": {
     "is_executing": false,
     "name": "#%%\n"
    }
   },
   "outputs": [
    {
     "data": {
      "text/plain": [
       "[b (object), d (object), c (object), a (object)]"
      ]
     },
     "execution_count": 18,
     "metadata": {},
     "output_type": "execute_result"
    }
   ],
   "source": [
    "lang.constants()"
   ]
  },
  {
   "cell_type": "markdown",
   "metadata": {},
   "source": [
    "Our blocks encoding this has four constants of type object, which we know\n",
    "represent the four different blocks in the problem. \n",
    "\n",
    "Languages also provide means to directly retrieve any sort, constant, function or predicate\n",
    "when their name is known: "
   ]
  },
  {
   "cell_type": "code",
   "execution_count": 19,
   "metadata": {
    "pycharm": {
     "is_executing": false,
     "name": "#%%\n"
    }
   },
   "outputs": [
    {
     "name": "stdout",
     "output_type": "stream",
     "text": [
      "on/2\n",
      "clear/1\n",
      "(a (object), b (object), c (object))\n"
     ]
    }
   ],
   "source": [
    "print(lang.get('on'))\n",
    "print(lang.get('clear'))\n",
    "print(lang.get('a', 'b', 'c'))"
   ]
  },
  {
   "cell_type": "markdown",
   "metadata": {},
   "source": [
    "Notice how in the last statement we retrieve three different elements (in this case, constants) in one single call. "
   ]
  },
  {
   "cell_type": "markdown",
   "metadata": {},
   "source": [
    "We can also easily inspect all constants of a certain sort:"
   ]
  },
  {
   "cell_type": "code",
   "execution_count": 20,
   "metadata": {
    "pycharm": {
     "is_executing": false,
     "name": "#%%\n"
    }
   },
   "outputs": [
    {
     "data": {
      "text/plain": [
       "[b (object), c (object), d (object), a (object)]"
      ]
     },
     "execution_count": 20,
     "metadata": {},
     "output_type": "execute_result"
    }
   ],
   "source": [
    "list(lang.get('object').domain())"
   ]
  },
  {
   "cell_type": "markdown",
   "metadata": {},
   "source": [
    "We can of course inspect not only the language, but also the problem itself."
   ]
  },
  {
   "cell_type": "code",
   "execution_count": 21,
   "metadata": {
    "pycharm": {
     "name": "#%%\n"
    }
   },
   "outputs": [
    {
     "data": {
      "text/plain": [
       "Problem(name=\"BLOCKS-4-2\", domain=\"BLOCKS\")"
      ]
     },
     "execution_count": 21,
     "metadata": {},
     "output_type": "execute_result"
    }
   ],
   "source": [
    "problem"
   ]
  },
  {
   "cell_type": "markdown",
   "metadata": {},
   "source": [
    "A PDDL planning problem is made up of some initial state, some goal formula, \n",
    "and a number of actions. The initial state is essentially an encoding of \n",
    "a first-order interpretation over the language of the problem:"
   ]
  },
  {
   "cell_type": "code",
   "execution_count": 22,
   "metadata": {
    "pycharm": {
     "name": "#%%\n"
    }
   },
   "outputs": [
    {
     "data": {
      "text/plain": [
       "Model(num_predicates=\"4\", num_functions=\"0\")"
      ]
     },
     "execution_count": 22,
     "metadata": {},
     "output_type": "execute_result"
    }
   ],
   "source": [
    "problem.init"
   ]
  },
  {
   "cell_type": "markdown",
   "metadata": {},
   "source": [
    "We can also get an extensional description of our initial state:"
   ]
  },
  {
   "cell_type": "code",
   "execution_count": 23,
   "metadata": {
    "pycharm": {
     "name": "#%%\n"
    }
   },
   "outputs": [
    {
     "name": "stdout",
     "output_type": "stream",
     "text": [
      "[clear(d), clear(a), clear(c), ontable(d), ontable(b), ontable(a), on(c,b), handempty()]\n"
     ]
    }
   ],
   "source": [
    "print(problem.init.as_atoms())"
   ]
  },
  {
   "cell_type": "markdown",
   "metadata": {},
   "source": [
    "Since the initial state is just another Tarski model, we can perform with it all operations that\n",
    "we have seen on previous tutorials, e.g. inspecting the value of some atom on it:"
   ]
  },
  {
   "cell_type": "code",
   "execution_count": 24,
   "metadata": {
    "pycharm": {
     "name": "#%%\n"
    }
   },
   "outputs": [
    {
     "data": {
      "text/plain": [
       "False"
      ]
     },
     "execution_count": 24,
     "metadata": {},
     "output_type": "execute_result"
    }
   ],
   "source": [
    "clear, b = lang.get('clear', 'b')\n",
    "problem.init[clear(b)]\n"
   ]
  },
  {
   "cell_type": "markdown",
   "metadata": {},
   "source": [
    "In contrast with the initial state, the goal can be any arbitrary first-order formula.\n",
    "Unsurprisingly, it turns out that the goal is not satisfied in the initial state;"
   ]
  },
  {
   "cell_type": "code",
   "execution_count": 25,
   "metadata": {
    "pycharm": {
     "is_executing": false,
     "name": "#%%\n"
    }
   },
   "outputs": [
    {
     "name": "stdout",
     "output_type": "stream",
     "text": [
      "(on(a,b) and on(b,c) and on(c,d))\n",
      "False\n"
     ]
    }
   ],
   "source": [
    "print(problem.goal)\n",
    "print(problem.init[problem.goal])"
   ]
  },
  {
   "cell_type": "markdown",
   "metadata": {},
   "source": [
    "Our blocks encoding has four actions:\n"
   ]
  },
  {
   "cell_type": "code",
   "execution_count": 26,
   "metadata": {
    "pycharm": {
     "is_executing": false,
     "name": "#%%\n"
    }
   },
   "outputs": [
    {
     "name": "stdout",
     "output_type": "stream",
     "text": [
      "['pick-up', 'put-down', 'stack', 'unstack']\n"
     ]
    }
   ],
   "source": [
    "print(list(problem.actions))\n"
   ]
  },
  {
   "cell_type": "markdown",
   "metadata": {},
   "source": [
    "We can of course retrieve and inspect each action individually:"
   ]
  },
  {
   "cell_type": "code",
   "execution_count": 27,
   "metadata": {
    "pycharm": {
     "name": "#%%\n"
    }
   },
   "outputs": [
    {
     "data": {
      "text/plain": [
       "?x,?y"
      ]
     },
     "execution_count": 27,
     "metadata": {},
     "output_type": "execute_result"
    }
   ],
   "source": [
    "stack = problem.get_action('stack')\n",
    "stack.parameters"
   ]
  },
  {
   "cell_type": "code",
   "execution_count": 28,
   "metadata": {
    "pycharm": {
     "name": "#%%\n"
    }
   },
   "outputs": [
    {
     "data": {
      "text/plain": [
       "(holding(?x) and clear(?y))"
      ]
     },
     "execution_count": 28,
     "metadata": {},
     "output_type": "execute_result"
    }
   ],
   "source": [
    "stack.precondition"
   ]
  },
  {
   "cell_type": "code",
   "execution_count": 29,
   "metadata": {
    "pycharm": {
     "name": "#%%\n"
    }
   },
   "outputs": [
    {
     "data": {
      "text/plain": [
       "[(T -> DEL(holding(?x))),\n",
       " (T -> DEL(clear(?y))),\n",
       " (T -> ADD(clear(?x))),\n",
       " (T -> ADD(handempty())),\n",
       " (T -> ADD(on(?x,?y)))]"
      ]
     },
     "execution_count": 29,
     "metadata": {},
     "output_type": "execute_result"
    }
   ],
   "source": [
    "stack.effects\n"
   ]
  }
 ],
 "metadata": {
  "kernelspec": {
   "display_name": "Python 3",
   "language": "python",
   "name": "python3"
  },
  "language_info": {
   "codemirror_mode": {
    "name": "ipython",
    "version": 3
   },
   "file_extension": ".py",
   "mimetype": "text/x-python",
   "name": "python",
   "nbconvert_exporter": "python",
   "pygments_lexer": "ipython3",
   "version": "3.7.3"
  },
  "pycharm": {
   "stem_cell": {
    "cell_type": "raw",
    "source": [],
    "metadata": {
     "collapsed": false
    }
   }
  }
 },
 "nbformat": 4,
 "nbformat_minor": 1
}
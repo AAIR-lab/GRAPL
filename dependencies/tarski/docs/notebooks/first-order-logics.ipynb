{
 "cells": [
  {
   "cell_type": "markdown",
   "source": [
    "# First-Order Logics in Tarski \n",
    "\n",
    "A number of classical planning representation languages such as `STRIPS` or `Functional STRIPS` have\n",
    "their roots in the logical tradition and use, to different degrees,\n",
    "[first-order language](https://en.wikipedia.org/wiki/First-order_logic) concepts\n",
    "in order to succinctly encode the dynamics of the planning problem to be represented.\n",
    "Tarski also builds on these ideas, making as clear as possible a distinction between the\n",
    "first-order language used to define a problem and the actual problem itself.\n",
    "In this tutorial, we'll have a look at the logical capabilities of Tarski.\n",
    "\n",
    "\n",
    "## Theories and many-sorted languages\n",
    "\n",
    "Due to its closeness to the standard planning modeling languages, Tarski uses _many-sorted_ logics,\n",
    "a refinement of first-order logics in which variables can have different _sorts_ (also: _types_), \n",
    "and hence range over different _domains_, or disjoint subsets of the universe of discourse.\n",
    "\n",
    "Additionally, Tarski borrows from the [SMT literature](https://en.wikipedia.org/wiki/Satisfiability_modulo_theories)\n",
    "the idea of using predefined _theories_, each of which incorporates into the language a number of\n",
    "standard sorts and predicate and function symbols.\n",
    "\n",
    "Let us start by creating a first-order language with the predefined \n",
    "equality and arithmetic theories:"
   ],
   "metadata": {
    "collapsed": false
   }
  },
  {
   "cell_type": "code",
   "execution_count": null,
   "outputs": [],
   "source": [
    "import tarski\n",
    "lang = tarski.language(name='tutorial', theories=['equality', 'arithmetic'])\n",
    "lang"
   ],
   "metadata": {
    "collapsed": false,
    "pycharm": {
     "name": "#%%\n"
    }
   }
  },
  {
   "cell_type": "markdown",
   "source": [
    "`lang` is now a first-order language with sorts such as the default `object` sort, but also \n",
    "the integer, real and natural sorts. Thanks to the built-in theories, it also incorporates\n",
    "standard arithmetic predicates such as $=$, $\\neq$, $\\leq$, etc."
   ],
   "metadata": {
    "collapsed": false
   }
  },
  {
   "cell_type": "code",
   "execution_count": null,
   "outputs": [],
   "source": [
    "lang.sorts\n"
   ],
   "metadata": {
    "collapsed": false,
    "pycharm": {
     "name": "#%%\n"
    }
   }
  },
  {
   "cell_type": "code",
   "execution_count": null,
   "outputs": [],
   "source": [
    "lang.predicates"
   ],
   "metadata": {
    "collapsed": false,
    "pycharm": {
     "name": "#%%\n"
    }
   }
  },
  {
   "cell_type": "code",
   "execution_count": null,
   "outputs": [],
   "source": [
    "lang.functions\n"
   ],
   "metadata": {
    "collapsed": false,
    "pycharm": {
     "name": "#%%\n"
    }
   }
  },
  {
   "cell_type": "markdown",
   "source": [
    "Let us define a couple of non-builtin sorts _block_ and _place_ \n",
    "for a hypothetical Blocks world:"
   ],
   "metadata": {
    "collapsed": false
   }
  },
  {
   "cell_type": "code",
   "execution_count": null,
   "outputs": [],
   "source": [
    "block = lang.sort('block')\n",
    "place = lang.sort('place')\n"
   ],
   "metadata": {
    "collapsed": false,
    "pycharm": {
     "name": "#%%\n"
    }
   }
  },
  {
   "cell_type": "markdown",
   "source": [
    "### Declaring domain constants"
   ],
   "metadata": {
    "collapsed": false
   }
  },
  {
   "cell_type": "markdown",
   "source": [
    "Due again to its closeness to the standard practice in planning and related disciplines such as \n",
    "logic programming, Tarski partially adopts the\n",
    "[Herbrand-like](http://logic.stanford.edu/herbrand/herbrand.html) convention \n",
    "that all constant symbols denote themselves. \n",
    "It is for this reason that there is a separate mechanism to declare language constants\n",
    "(which in action languages such as `PDDL` are often also called \"objects\"):"
   ],
   "metadata": {
    "collapsed": false
   }
  },
  {
   "cell_type": "code",
   "execution_count": null,
   "outputs": [],
   "source": [
    "b1 = lang.constant('b1', block)\n",
    "b2 = lang.constant('b2', block)\n",
    "table = lang.constant('table', place)"
   ],
   "metadata": {
    "collapsed": false,
    "pycharm": {
     "name": "#%%\n"
    }
   }
  },
  {
   "cell_type": "markdown",
   "source": [
    "Each of the above calls declares constants of given types (block or place), which are enforced\n",
    "to denote themselves - i.e., any interpretation for this language will feature an element\n",
    "$table$ in the domain of sort $place$, and elements $b1$ and $b2$ in the domain of sort $block$. \n",
    "\n",
    "Tarski allows to declare constants both using sort objects (such as $place$), or simply their name\n",
    "(e.g., \"place\"). Of course we can also use standard Python idioms such as list comprehensions\n",
    "to save some typing. Say we want to declare 20 more blocks: "
   ],
   "metadata": {
    "collapsed": false
   }
  },
  {
   "cell_type": "code",
   "execution_count": null,
   "outputs": [],
   "source": [
    "forty = [lang.constant(f\"b{k}\", \"block\") for k in range(3, 21)]"
   ],
   "metadata": {
    "collapsed": false,
    "pycharm": {
     "name": "#%%\n"
    }
   }
  },
  {
   "cell_type": "markdown",
   "source": [
    "At any point we can inspect all constants declared so far:\n"
   ],
   "metadata": {
    "collapsed": false
   }
  },
  {
   "cell_type": "code",
   "execution_count": null,
   "outputs": [],
   "source": [
    "lang.constants()"
   ],
   "metadata": {
    "collapsed": false,
    "pycharm": {
     "name": "#%%\n"
    }
   }
  },
  {
   "cell_type": "markdown",
   "source": [
    "as well as retrieve any of the sorts declared so far:\n"
   ],
   "metadata": {
    "collapsed": false
   }
  },
  {
   "cell_type": "code",
   "execution_count": null,
   "outputs": [],
   "source": [
    "lang.get_sort('place')"
   ],
   "metadata": {
    "collapsed": false,
    "pycharm": {
     "name": "#%%\n"
    }
   }
  },
  {
   "cell_type": "markdown",
   "source": [
    "### Sort hierarchies\n",
    "Tarski implements a rudimentary sort hierarchy mechanism...\n",
    "\n",
    "TO-DO! :-)\n",
    "\n",
    "### Built-in sorts"
   ],
   "metadata": {
    "collapsed": false
   }
  },
  {
   "cell_type": "markdown",
   "source": [
    "Tarski languages can optionally contain some _built-in_ sorts to help the modeller e.g. use common\n",
    "algebraic predicates without having to define everything from first principles. At the time of\n",
    "writing, every Tarski language comes with the following built-in sorts\n",
    " \n",
    "  - `object` - the base, default sort.\n",
    "  - `Real` - the set of real numbers $\\mathbb{R}$\n",
    "  - `Integer` - the set of integer numbers $\\mathbb{Z}$\n",
    "  - `Natural` - the set of natural numbers $\\mathbb{N}$\n",
    "  \n",
    "Sort object is always defined, whereas the other three are only defined if the language is created\n",
    "with the `arithmetic` theory.\n",
    "The three arithmetic sorts are represented as closed _intervals_ with well-defined _lower_ and\n",
    "_upper_ bounds. We cannot introduce symbols into built-in sorts, but we can _refer_ to\n",
    "them with Python variables:"
   ],
   "metadata": {
    "collapsed": false
   }
  },
  {
   "cell_type": "code",
   "execution_count": null,
   "outputs": [],
   "source": [
    "lang.constant(3, lang.Real)"
   ],
   "metadata": {
    "collapsed": false,
    "pycharm": {
     "name": "#%%\n"
    }
   }
  },
  {
   "cell_type": "code",
   "execution_count": null,
   "outputs": [],
   "source": [
    "lang.constant(42, lang.Integer)"
   ],
   "metadata": {
    "collapsed": false,
    "pycharm": {
     "name": "#%%\n"
    }
   }
  },
  {
   "cell_type": "markdown",
   "source": [
    "or even"
   ],
   "metadata": {
    "collapsed": false
   }
  },
  {
   "cell_type": "code",
   "execution_count": null,
   "outputs": [],
   "source": [
    "import numpy as np\n",
    "lang.constant(np.pi, lang.Real)"
   ],
   "metadata": {
    "collapsed": false,
    "pycharm": {
     "name": "#%%\n"
    }
   }
  },
  {
   "cell_type": "markdown",
   "source": [
    "Built-in sorts can be accessed either with the standard `get_sort()` accessor,\n",
    "or directly on the language:\n"
   ],
   "metadata": {
    "collapsed": false
   }
  },
  {
   "cell_type": "code",
   "execution_count": null,
   "outputs": [],
   "source": [
    "assert lang.get_sort('Real') == lang.Real\n"
   ],
   "metadata": {
    "collapsed": false,
    "pycharm": {
     "name": "#%%\n"
    }
   }
  },
  {
   "cell_type": "markdown",
   "source": [
    "And can be easily distinguished because of their attribute `builtin`:"
   ],
   "metadata": {
    "collapsed": false
   }
  },
  {
   "cell_type": "code",
   "execution_count": null,
   "outputs": [],
   "source": [
    "lang.Real.builtin"
   ],
   "metadata": {
    "collapsed": false,
    "pycharm": {
     "name": "#%%\n"
    }
   }
  },
  {
   "cell_type": "markdown",
   "source": [
    "### Intervals\n",
    "\n",
    "So far the kind of sorts we have seen are either _sets_ defined arbitrarily, or an infinite subset\n",
    " of the ${\\mathbb R}$ continuum (e.g. `Real` is actually a subset of the rationals ${\\mathbb{Q}}$).\n",
    " One special case of sort is that which is a subset of the Cartesian product of its domain with\n",
    " itself, which we refer to as _intervals_. These subsets are assumed to be _dense_, and allow to\n",
    " represent without loss of generality sorts like\n",
    "\n",
    "$$\n",
    "I \\equiv [a,b],\\ \\text{where}\\, a,b \\in {\\mathbb Z}\n",
    "$$\n",
    "\n",
    "or some other built-in sort.\n",
    "\n",
    "We can declare the interval sort for $[0,10]$ where $0$ and $10$ are taken to be integers as follows"
   ],
   "metadata": {
    "collapsed": false
   }
  },
  {
   "cell_type": "code",
   "execution_count": null,
   "outputs": [],
   "source": [
    "I = lang.interval('I', lang.Integer, 0, 10)"
   ],
   "metadata": {
    "collapsed": false,
    "pycharm": {
     "name": "#%%\n"
    }
   }
  },
  {
   "cell_type": "markdown",
   "source": [
    "Constants are then given as in the unrestricted case"
   ],
   "metadata": {
    "collapsed": false
   }
  },
  {
   "cell_type": "code",
   "execution_count": null,
   "outputs": [],
   "source": [
    "one = lang.constant(1, I)"
   ],
   "metadata": {
    "collapsed": false,
    "pycharm": {
     "name": "#%%\n"
    }
   }
  },
  {
   "cell_type": "markdown",
   "source": [
    "Trying to creat constants of interval types which aren't consistent with the declared bounds will result in an exception"
   ],
   "metadata": {
    "collapsed": false
   }
  },
  {
   "cell_type": "code",
   "execution_count": null,
   "outputs": [],
   "source": [
    "try:\n",
    "    lang.constant(-2, I)\n",
    "except ValueError as err:\n",
    "    print(\"Caught exception: {}\".format(err))"
   ],
   "metadata": {
    "collapsed": false,
    "pycharm": {
     "name": "#%%\n"
    }
   }
  },
  {
   "cell_type": "markdown",
   "source": [
    "### A Hierarchy of Sorts"
   ],
   "metadata": {
    "collapsed": false
   }
  },
  {
   "cell_type": "markdown",
   "source": [
    "Sorts associated to a language can be arranged as per hierarchy, specifying the partial ordering relation $\\sqsubseteq$ to hold between two given sorts $\\alpha$ and $\\beta$"
   ],
   "metadata": {
    "collapsed": false
   }
  },
  {
   "cell_type": "code",
   "execution_count": null,
   "outputs": [],
   "source": [
    "alpha = lang.sort('alpha')"
   ],
   "metadata": {
    "collapsed": false,
    "pycharm": {
     "name": "#%%\n"
    }
   }
  },
  {
   "cell_type": "code",
   "execution_count": null,
   "outputs": [],
   "source": [
    "beta = lang.sort('beta', alpha)"
   ],
   "metadata": {
    "collapsed": false,
    "pycharm": {
     "name": "#%%\n"
    }
   }
  },
  {
   "cell_type": "markdown",
   "source": [
    "The _parent_ of $\\beta$, that is, the sort $\\alpha$ s.t. $\\alpha \\sqsubseteq \\beta$, is accessible via the method `parent`"
   ],
   "metadata": {
    "collapsed": false
   }
  },
  {
   "cell_type": "code",
   "execution_count": null,
   "outputs": [],
   "source": [
    "print(\"Parent of {} is {}\".format(beta, tarski.syntax.sorts.parent(beta)))"
   ],
   "metadata": {
    "collapsed": false,
    "pycharm": {
     "name": "#%%\n"
    }
   }
  },
  {
   "cell_type": "markdown",
   "source": [
    "For built-in sorts, this relationship is already defined as expected"
   ],
   "metadata": {
    "collapsed": false
   }
  },
  {
   "cell_type": "code",
   "execution_count": null,
   "outputs": [],
   "source": [
    "R = lang.Real\n",
    "\n",
    "print(\"Parent of {} is {}\".format(R, tarski.syntax.sorts.parent(R)))"
   ],
   "metadata": {
    "collapsed": false,
    "pycharm": {
     "name": "#%%\n"
    }
   }
  },
  {
   "cell_type": "code",
   "execution_count": null,
   "outputs": [],
   "source": [
    "Z = lang.Integer\n",
    "\n",
    "print(\"Parent of {} is {}\".format(Z, tarski.syntax.sorts.parent(Z)))"
   ],
   "metadata": {
    "collapsed": false,
    "pycharm": {
     "name": "#%%\n"
    }
   }
  },
  {
   "cell_type": "code",
   "execution_count": null,
   "outputs": [],
   "source": [
    "N = lang.Natural\n",
    "\n",
    "print(\"Parent of {} is {}\".format(N, tarski.syntax.sorts.parent(N)))"
   ],
   "metadata": {
    "collapsed": false,
    "pycharm": {
     "name": "#%%\n"
    }
   }
  },
  {
   "cell_type": "markdown",
   "source": [
    "## Constants, Functions and Predicates"
   ],
   "metadata": {
    "collapsed": false
   }
  },
  {
   "cell_type": "markdown",
   "source": [
    "Let's start populating the language `bw` for describing instances of Blocks World"
   ],
   "metadata": {
    "collapsed": false
   }
  },
  {
   "cell_type": "code",
   "execution_count": null,
   "outputs": [],
   "source": [
    "import tarski\n",
    "import tarski.errors as err"
   ],
   "metadata": {
    "collapsed": false,
    "pycharm": {
     "name": "#%%\n"
    }
   }
  },
  {
   "cell_type": "code",
   "execution_count": null,
   "outputs": [],
   "source": [
    "bw = tarski.language()"
   ],
   "metadata": {
    "collapsed": false,
    "pycharm": {
     "name": "#%%\n"
    }
   }
  },
  {
   "cell_type": "markdown",
   "source": [
    "Blocks Worlds are made of objects of two sorts:"
   ],
   "metadata": {
    "collapsed": false
   }
  },
  {
   "cell_type": "code",
   "execution_count": null,
   "outputs": [],
   "source": [
    "place = bw.sort('place')"
   ],
   "metadata": {
    "collapsed": false,
    "pycharm": {
     "name": "#%%\n"
    }
   }
  },
  {
   "cell_type": "markdown",
   "source": [
    "and"
   ],
   "metadata": {
    "collapsed": false
   }
  },
  {
   "cell_type": "code",
   "execution_count": null,
   "outputs": [],
   "source": [
    "block = bw.sort('block', place)"
   ],
   "metadata": {
    "collapsed": false,
    "pycharm": {
     "name": "#%%\n"
    }
   }
  },
  {
   "cell_type": "markdown",
   "source": [
    "We populate our instance with a few blocks"
   ],
   "metadata": {
    "collapsed": false
   }
  },
  {
   "cell_type": "code",
   "execution_count": null,
   "outputs": [],
   "source": [
    "b1, b2, b3, b4 = [ bw.constant('b_{}'.format(k), block )  for k in (1,2,3,4) ]"
   ],
   "metadata": {
    "collapsed": false,
    "pycharm": {
     "name": "#%%\n"
    }
   }
  },
  {
   "cell_type": "markdown",
   "source": [
    "and a table"
   ],
   "metadata": {
    "collapsed": false
   }
  },
  {
   "cell_type": "code",
   "execution_count": null,
   "outputs": [],
   "source": [
    "table = bw.constant('table', place)"
   ],
   "metadata": {
    "collapsed": false,
    "pycharm": {
     "name": "#%%\n"
    }
   }
  },
  {
   "cell_type": "markdown",
   "source": [
    "### Functions"
   ],
   "metadata": {
    "collapsed": false
   }
  },
  {
   "cell_type": "markdown",
   "source": [
    "Function symbols $f$ are used to represent mappings between several sorts $\\tau$. Formally, we will define $f$ as mappings\n",
    "\n",
    "$$\n",
    "f : \\tau_1, \\ldots, \\tau_n \\mapsto \\tau_{n+1}\n",
    "$$\n",
    "\n",
    "Functions $f$ have _arity_ $n \\geq 0$, their _domain_ is the cartesian product $\\tau_1 \\times \\tau_2 \\ldots \\times \\tau_n$ and their _codomain_ is the sort $\\tau_{n+1}$. The _signature_ $\\sigma_f$ of $f$ corresponds with the tuple\n",
    "\n",
    "$$\n",
    "(f, \\tau_1, \\ldots, \\tau_n, \\tau_{n+1})\n",
    "$$\n",
    "\n",
    "and allows to uniquely identify a function: Tarski doesn't allow languages with functions $f$ and $f'$ such that $\\sigma_f$ $=$ $\\sigma_{f'}$."
   ],
   "metadata": {
    "collapsed": false
   }
  },
  {
   "cell_type": "markdown",
   "source": [
    "For Blocks World we can define the function $loc: block \\mapsto place$, which we use to refer indirectly to the object a given block is _on top of_ at any point in time"
   ],
   "metadata": {
    "collapsed": false
   }
  },
  {
   "cell_type": "code",
   "execution_count": null,
   "outputs": [],
   "source": [
    "loc = bw.function('loc', block, place)"
   ],
   "metadata": {
    "collapsed": false,
    "pycharm": {
     "name": "#%%\n"
    }
   }
  },
  {
   "cell_type": "markdown",
   "source": [
    "We note that the arguments of this method correspond with the components of a function signature, hence"
   ],
   "metadata": {
    "collapsed": false
   }
  },
  {
   "cell_type": "code",
   "execution_count": null,
   "outputs": [],
   "source": [
    "print('Domain of {}: {}'.format(loc, loc.domain))\n",
    "print('Codomain of {}: {}'.format(loc, loc.codomain))\n",
    "print('Type of {}: {}'.format(loc, loc.sort))\n",
    "print('Arity of {} : {}'.format(loc, loc.arity))"
   ],
   "metadata": {
    "collapsed": false,
    "pycharm": {
     "name": "#%%\n"
    }
   }
  },
  {
   "cell_type": "markdown",
   "source": [
    "Printing function objects indicates the arity (number of arguments) the function was declared with, following the convention typically used in Prolog.\n"
   ],
   "metadata": {
    "collapsed": false
   }
  },
  {
   "cell_type": "markdown",
   "source": [
    "### Predicates as Relation Symbols\n",
    "Relations between objects and intrinsic properties of objects are modelled by means of _relation symbols_ or _predicates_."
   ],
   "metadata": {
    "collapsed": false
   }
  },
  {
   "cell_type": "code",
   "execution_count": null,
   "outputs": [],
   "source": [
    "clear = bw.predicate('clear', block )"
   ],
   "metadata": {
    "collapsed": false,
    "pycharm": {
     "name": "#%%\n"
    }
   }
  },
  {
   "cell_type": "markdown",
   "source": [
    "By default, Tarski languages do not define implictly any kind of builtin predicate or function. For instance, \n",
    "if we try to write something like"
   ],
   "metadata": {
    "collapsed": false
   }
  },
  {
   "cell_type": "code",
   "execution_count": null,
   "outputs": [],
   "source": [
    "try:\n",
    "    b1 == b2\n",
    "except err.LanguageError as e:\n",
    "    print(f\"Caught exception {e}\")\n",
    "    "
   ],
   "metadata": {
    "collapsed": false,
    "pycharm": {
     "name": "#%%\n"
    }
   }
  },
  {
   "cell_type": "markdown",
   "source": [
    "For that we need to explicitly attach _theories_ to our language, as shown later.\n"
   ],
   "metadata": {
    "collapsed": false
   }
  },
  {
   "cell_type": "markdown",
   "source": [
    "## Terms and Formulas"
   ],
   "metadata": {
    "collapsed": false
   }
  },
  {
   "cell_type": "markdown",
   "source": [
    "Now we have all the elements to formally define Tarski languages:"
   ],
   "metadata": {
    "collapsed": false
   }
  },
  {
   "cell_type": "markdown",
   "source": [
    "**Definition** (Many-Sorted First-Order Language). A _many-sorted_ _first-order_ language ${\\cal L}$ is made up of:\n",
    " - A non-empty set $T$ of _sorts_\n",
    " - An _infinite number_ of _variables_ $x_{1}^{\\tau}, x_{2}^{\\tau}, \\ldots$ for each short $\\tau \\in T$\n",
    " - For each $n \\geq 0$ and each tuple $(\\tau_1, \\ldots, \\tau_{n+1}) \\in T^{n+1}$ of sorts, a (possibly empty) set of _function_ symbols, each of which is said to have _arity_ and _type_ $(\\tau_1, \\ldots, \\tau_{n+1})$\n",
    " - For each $n \\geq 0$ and each tuple $(\\tau_1, \\ldots, \\tau_{n+1}) \\in T^{n}$ of sorts, a (possibly empty) set of _relation_ symbols (predicates), each of which is said to have _arity_ and _type_ $(\\tau_1, \\ldots, \\tau_{n})$"
   ],
   "metadata": {
    "collapsed": false
   }
  },
  {
   "cell_type": "markdown",
   "source": [
    "Continuing with our `Blocks World` themed example"
   ],
   "metadata": {
    "collapsed": false
   }
  },
  {
   "cell_type": "code",
   "execution_count": null,
   "outputs": [],
   "source": [
    "import tarski\n",
    "from tarski.syntax import *\n",
    "from tarski.theories import Theory\n",
    "\n",
    "# 1. Create language used to describe world states and transitions\n",
    "bw = tarski.language(theories=[Theory.EQUALITY, Theory.ARITHMETIC])\n",
    "\n",
    "# 2. Define sorts\n",
    "place = bw.sort('place')\n",
    "block = bw.sort('block', place)\n",
    "\n",
    "# 3. Define functions\n",
    "loc = bw.function( 'loc', block, place )\n",
    "looking_at = bw.function( 'looking_at', block )\n",
    "\n",
    "# 4. Define predicates\n",
    "clear = bw.predicate( 'clear', block)"
   ],
   "metadata": {
    "collapsed": false,
    "pycharm": {
     "name": "#%%\n"
    }
   }
  },
  {
   "cell_type": "markdown",
   "source": [
    "We introduce the function $width(b)$ for blocks $b$, this will allow us to specify Hanoi Towers like tasks"
   ],
   "metadata": {
    "collapsed": false
   }
  },
  {
   "cell_type": "code",
   "execution_count": null,
   "outputs": [],
   "source": [
    "width = bw.function('width', block, bw.Real)"
   ],
   "metadata": {
    "collapsed": false,
    "pycharm": {
     "name": "#%%\n"
    }
   }
  },
  {
   "cell_type": "markdown",
   "source": [
    "_Constants_ are 0-arity functions, whose sort $\\tau$ is a set with one single element. Hence, we handle them separately, as we specialise their representation"
   ],
   "metadata": {
    "collapsed": false
   }
  },
  {
   "cell_type": "code",
   "execution_count": null,
   "outputs": [],
   "source": [
    "# 5. Define constants\n",
    "b1, b2, b3, b4 = [ bw.constant('b_{}'.format(k), block) for k in (1,2,3,4) ]\n",
    "table = bw.constant('table', place)"
   ],
   "metadata": {
    "collapsed": false,
    "pycharm": {
     "name": "#%%\n"
    }
   }
  },
  {
   "cell_type": "markdown",
   "source": [
    "### (First-Order) Terms"
   ],
   "metadata": {
    "collapsed": false
   }
  },
  {
   "cell_type": "markdown",
   "source": [
    "Combinations of variables, functions and constants are called _terms_, and the rules for constructing them are given inductively:"
   ],
   "metadata": {
    "collapsed": false
   }
  },
  {
   "cell_type": "markdown",
   "source": [
    "**Definition** (First-Order Terms). A term $t$ can be:\n",
    "\n",
    " - Any variable $x^{\\tau}$ of the language can be a term $t$ with type $\\tau$\n",
    " - Any constant symbol of the language with type $\\tau$ is a term with the same type\n",
    " - If $t_1, \\ldots, t_n$ are terms with respective types $\\tau_1, \\ldots, \\tau_n$ and $f$ is a _function_ symbol with type $(\\tau_1, \\ldots, \\tau_n, \\tau{n+1})$ then $f(t_1,\\ldots,t_n)$ is a term with type $\\tau_{n+1}$."
   ],
   "metadata": {
    "collapsed": false
   }
  },
  {
   "cell_type": "markdown",
   "source": [
    "Terms are implemented as Python objects. Every constant symbol is an instance of `Term`"
   ],
   "metadata": {
    "collapsed": false
   }
  },
  {
   "cell_type": "code",
   "execution_count": null,
   "outputs": [],
   "source": [
    "from tarski import Term\n",
    "\n",
    "isinstance(b1,Term)"
   ],
   "metadata": {
    "collapsed": false,
    "pycharm": {
     "name": "#%%\n"
    }
   }
  },
  {
   "cell_type": "markdown",
   "source": [
    "Function symbols allow to nest terms, thus "
   ],
   "metadata": {
    "collapsed": false
   }
  },
  {
   "cell_type": "code",
   "execution_count": null,
   "outputs": [],
   "source": [
    "t1 = loc(b1)\n",
    "isinstance(t1,Term)"
   ],
   "metadata": {
    "collapsed": false,
    "pycharm": {
     "name": "#%%\n"
    }
   }
  },
  {
   "cell_type": "code",
   "execution_count": null,
   "outputs": [],
   "source": [
    "x = bw.variable('x', block)\n",
    "t2 = loc(x)\n",
    "isinstance(t2,Term)"
   ],
   "metadata": {
    "collapsed": false,
    "pycharm": {
     "name": "#%%\n"
    }
   }
  },
  {
   "cell_type": "code",
   "execution_count": null,
   "outputs": [],
   "source": [
    "t3 = loc(looking_at())\n",
    "isinstance(t3,Term)"
   ],
   "metadata": {
    "collapsed": false,
    "pycharm": {
     "name": "#%%\n"
    }
   }
  },
  {
   "cell_type": "markdown",
   "source": [
    "are all terms. Tarski textual representation of variables is a bit different"
   ],
   "metadata": {
    "collapsed": false
   }
  },
  {
   "cell_type": "code",
   "execution_count": null,
   "outputs": [],
   "source": [
    "print('{}, type: {}'.format(t1, t1.sort))\n",
    "print('{}, type: {}'.format(t2, t2.sort))\n",
    "print('{}, type: {}'.format(t3, t3.sort))"
   ],
   "metadata": {
    "collapsed": false,
    "pycharm": {
     "name": "#%%\n"
    }
   }
  },
  {
   "cell_type": "markdown",
   "source": [
    "in order to make distinct variables from constants, the former are printed with the prefix `?`. "
   ],
   "metadata": {
    "collapsed": false
   }
  },
  {
   "cell_type": "markdown",
   "source": [
    "### Formulas"
   ],
   "metadata": {
    "collapsed": false
   }
  },
  {
   "cell_type": "markdown",
   "source": [
    "Formulas (statements that can be either `True` or `False`) are defined also inductively as follows:"
   ],
   "metadata": {
    "collapsed": false
   }
  },
  {
   "cell_type": "markdown",
   "source": [
    "**Definition** (First-Order Formulas).\n",
    "\n",
    " - If $t_1$ and $t_2$ are two terms with the same type, then $t_1 = t_2$ is an _atomic formula_.\n",
    " \n",
    " - If $t_1,\\ldots,t_n$ are terms with respective types $\\tau_1,\\ldots,\\tau_n$, and $R$ is a relation symbol with type $(\\tau_1,\\ldots,\\tau_n)$, then $R(t_1,\\ldots,t_n)$ is an atomic formula too.\n",
    " \n",
    " - If $\\phi_1$ and $\\phi_2$ are formulas then $\\neg \\phi_1$, $\\phi_1 \\lor \\phi_2$ and $\\phi_1 \\land \\phi_2$ are also formulas.\n",
    " \n",
    " - If $\\phi$ is a formula, then $\\exists_t x^{\\tau}\\, \\phi$ and $\\forall_t x^{\\tau}\\, \\phi$ are also formulas."
   ],
   "metadata": {
    "collapsed": false
   }
  },
  {
   "cell_type": "markdown",
   "source": [
    "Quantification happens over a certain sort, i.e. for each sort $\\tau$ $\\in$ $T$ there are universal and existential quantifier symbols $\\forall_{\\tau}$ and $\\exists_{\\tau}$, which may be applied to variables of the same sort."
   ],
   "metadata": {
    "collapsed": false
   }
  },
  {
   "cell_type": "markdown",
   "source": [
    "Formulas without existential ($\\exists$) or universal ($\\forall$) quantifiers are called _quantifier free_."
   ],
   "metadata": {
    "collapsed": false
   }
  },
  {
   "cell_type": "markdown",
   "source": [
    "### Examples"
   ],
   "metadata": {
    "collapsed": false
   }
  },
  {
   "cell_type": "markdown",
   "source": [
    "We can define the formula $t_1 = t_3$ - terms $t_1$ and $t_3$ are equal - with the following statement"
   ],
   "metadata": {
    "collapsed": false
   }
  },
  {
   "cell_type": "code",
   "execution_count": null,
   "outputs": [],
   "source": [
    "tau = t1 == t3"
   ],
   "metadata": {
    "collapsed": false,
    "pycharm": {
     "name": "#%%\n"
    }
   }
  },
  {
   "cell_type": "markdown",
   "source": [
    "The `str()` method is overwritten for every term and formula class, returning a string representation of expression, which gives insight into how Tarski represents internally formulas and expressions"
   ],
   "metadata": {
    "collapsed": false
   }
  },
  {
   "cell_type": "code",
   "execution_count": null,
   "outputs": [],
   "source": [
    "str(tau)"
   ],
   "metadata": {
    "collapsed": false,
    "pycharm": {
     "name": "#%%\n"
    }
   }
  },
  {
   "cell_type": "markdown",
   "source": [
    "We need a new variable so we can make general statements about more than one block"
   ],
   "metadata": {
    "collapsed": false
   }
  },
  {
   "cell_type": "code",
   "execution_count": null,
   "outputs": [],
   "source": [
    "y = bw.variable('y', block)"
   ],
   "metadata": {
    "collapsed": false,
    "pycharm": {
     "name": "#%%\n"
    }
   }
  },
  {
   "cell_type": "markdown",
   "source": [
    "Now we can state properties of states like _for every block x, x cannot be wider than the place below_\n",
    "\n",
    "$$\n",
    "\\forall x,y\\, loc(x) = y \\supset width(x) < width(y)\n",
    "$$\n",
    "\n",
    "which can be written as"
   ],
   "metadata": {
    "collapsed": false
   }
  },
  {
   "cell_type": "code",
   "execution_count": null,
   "outputs": [],
   "source": [
    "phi = forall( x, y, implies( loc(x) == y, width(x) < width(y) ) )"
   ],
   "metadata": {
    "collapsed": false,
    "pycharm": {
     "name": "#%%\n"
    }
   }
  },
  {
   "cell_type": "markdown",
   "source": [
    "which is represented internally"
   ],
   "metadata": {
    "collapsed": false
   }
  },
  {
   "cell_type": "code",
   "execution_count": null,
   "outputs": [],
   "source": [
    "str(phi)"
   ],
   "metadata": {
    "collapsed": false,
    "pycharm": {
     "name": "#%%\n"
    }
   }
  },
  {
   "cell_type": "markdown",
   "source": [
    "It's worth noting that Tarski will always try to simplify formulas. For instance, the sub-formula \n",
    "\n",
    "$$ \n",
    "loc(x) = y \\supset width(x) < width(y)\n",
    "$$\n",
    "\n",
    "was transformed into the disjunction\n",
    "\n",
    "$$\n",
    "loc(x) \\neq y \\lor width(x) < width(y)\n",
    "$$\n",
    "\n",
    "using the transformation \n",
    "\n",
    "$$\n",
    "p \\supset q \\equiv \\neg p \\lor q\n",
    "$$"
   ],
   "metadata": {
    "collapsed": false
   }
  },
  {
   "cell_type": "markdown",
   "source": [
    "We can use the operator `>` instead of the function `implies()`, if a more concise syntax is preferred."
   ],
   "metadata": {
    "collapsed": false
   }
  },
  {
   "cell_type": "code",
   "execution_count": null,
   "outputs": [],
   "source": [
    "phi = forall( x, y, (loc(x) == y) > (width(x) < width(y)) )"
   ],
   "metadata": {
    "collapsed": false,
    "pycharm": {
     "name": "#%%\n"
    }
   }
  },
  {
   "cell_type": "markdown",
   "source": [
    "We can write the conjunctive  formula\n",
    "\n",
    "$$\n",
    "loc(b1) \\neq loc(b2) \\land loc(b1) \\neq loc(b3)\n",
    "$$\n",
    "\n",
    "in several ways. One is using the `land` function"
   ],
   "metadata": {
    "collapsed": false
   }
  },
  {
   "cell_type": "code",
   "execution_count": null,
   "outputs": [],
   "source": [
    "phi = land( loc(b1) != loc(b2), loc(b1) != loc(b3))"
   ],
   "metadata": {
    "collapsed": false,
    "pycharm": {
     "name": "#%%\n"
    }
   }
  },
  {
   "cell_type": "markdown",
   "source": [
    "or the operator `&`"
   ],
   "metadata": {
    "collapsed": false
   }
  },
  {
   "cell_type": "code",
   "execution_count": null,
   "outputs": [],
   "source": [
    "phi = (loc(b1) != loc(b2)) & (loc(b1) != loc(b3))"
   ],
   "metadata": {
    "collapsed": false,
    "pycharm": {
     "name": "#%%\n"
    }
   }
  },
  {
   "cell_type": "markdown",
   "source": [
    "Another state invariant like \n",
    "\n",
    "$$\n",
    "loc(b1) = b2 \\lor loc(b1) = b3\n",
    "$$\n",
    "\n",
    "can be written as"
   ],
   "metadata": {
    "collapsed": false
   }
  },
  {
   "cell_type": "code",
   "execution_count": null,
   "outputs": [],
   "source": [
    "phi = lor( loc(b1) == b2, loc(b1) == b3 )"
   ],
   "metadata": {
    "collapsed": false,
    "pycharm": {
     "name": "#%%\n"
    }
   }
  },
  {
   "cell_type": "markdown",
   "source": [
    "or"
   ],
   "metadata": {
    "collapsed": false
   }
  },
  {
   "cell_type": "code",
   "execution_count": null,
   "outputs": [],
   "source": [
    "phi = (loc(b1)==b2) | (loc(b1)==b3)"
   ],
   "metadata": {
    "collapsed": false,
    "pycharm": {
     "name": "#%%\n"
    }
   }
  },
  {
   "cell_type": "markdown",
   "source": [
    "Finally, the formula \n",
    "\n",
    "$$\n",
    "loc(b1) = b2 \\supset \\neg clear(b2)\n",
    "$$"
   ],
   "metadata": {
    "collapsed": false
   }
  },
  {
   "cell_type": "markdown",
   "source": [
    "can be written as "
   ],
   "metadata": {
    "collapsed": false
   }
  },
  {
   "cell_type": "code",
   "execution_count": null,
   "outputs": [],
   "source": [
    "phi=implies( loc(b1) == b2, neg(clear(b2)))\n",
    "str(phi)"
   ],
   "metadata": {
    "collapsed": false,
    "pycharm": {
     "name": "#%%\n"
    }
   }
  },
  {
   "cell_type": "markdown",
   "source": [
    "or, alternatively the `~` unary operator can be used instead of `neg`"
   ],
   "metadata": {
    "collapsed": false
   }
  },
  {
   "cell_type": "code",
   "execution_count": null,
   "outputs": [],
   "source": [
    "phi = implies( loc(b1) == b2, ~clear(b2))\n",
    "str(phi)\n"
   ],
   "metadata": {
    "collapsed": false,
    "pycharm": {
     "name": "#%%\n"
    }
   }
  },
  {
   "cell_type": "markdown",
   "source": [
    "## Semantics of First-Order Languages\n"
   ],
   "metadata": {
    "collapsed": false
   }
  },
  {
   "cell_type": "code",
   "execution_count": null,
   "outputs": [],
   "source": [
    "import tarski\n",
    "\n",
    "# 1. Create language used to describe world states and transitions\n",
    "bw = tarski.language(theories=['equality', 'arithmetic'])\n"
   ],
   "metadata": {
    "collapsed": false,
    "pycharm": {
     "name": "#%%\n"
    }
   }
  },
  {
   "cell_type": "code",
   "execution_count": null,
   "outputs": [],
   "source": [
    "# 2. Define sorts\n",
    "place = bw.sort('place')\n",
    "block = bw.sort('block', place)\n",
    "\n",
    "# 3. Define functions\n",
    "loc = bw.function( 'loc', block, place )\n",
    "width = bw.function('width', block, bw.Real)\n",
    "\n",
    "# 4. Define predicates\n",
    "clear = bw.predicate( 'clear', block)\n"
   ],
   "metadata": {
    "collapsed": false,
    "pycharm": {
     "name": "#%%\n"
    }
   }
  },
  {
   "cell_type": "markdown",
   "source": [
    "The semantics of a first-order language is based on the notion of _models_:\n",
    "\n",
    "**Definition** (First-Order logic model). Let ${\\cal L}$ be a many-sorted first-order language. A first-order **model**, sometimes also called **structure** or **interpretation**, for the language ${\\cal L}$ is a tuple\n",
    "\n",
    "$$\n",
    "{\\cal M} = \\langle \\{ {\\cal U}_{\\tau}\\},\\, \\{f^{{\\cal M}}\\},\\, \\{P^{{\\cal M}}\\} \\} \\rangle\n",
    "$$\n",
    "\n",
    "made up of:\n",
    "\n",
    " - A non-empty set ${\\cal U}_{\\tau}$, the *universe* of type $\\tau$, for each $\\tau \\in T$. \n",
    " - For each $n$-ary function symbol $f$ of the language with type $(\\tau_1, \\ldots, \\tau_n, \\tau_{n+1})$, a function $f^{\\cal M}$ $:$ ${\\cal U}_{\\tau_1} \\times \\ldots \\times  {\\cal U}_{\\tau_n} \\rightarrow {\\cal U}_{\\tau_{n+1}}$. When $n=0$ and $f$ is a constant symbol of type $\\tau$, $f^{\\cal M}$ is simply some element of the universe ${\\cal U}_{\\tau}$.\n",
    " - For each $n$-ary predicate symbol $P$ of type $(\\tau_1,\\ldots,\\tau_n)$, a subset $P^{\\cal M} \\subseteq {\\cal U}_{\\tau_1} \\times \\ldots \\times {\\cal U}_{\\tau_n}$. If $n=0$, we will assume that $P^{\\cal M}$ is a truth table $P^{\\cal M}$ $\\in$ $\\{ \\top, \\bot \\}$."
   ],
   "metadata": {
    "collapsed": false
   }
  },
  {
   "cell_type": "markdown",
   "source": [
    "### Denotation of Terms and Truth of Formulas"
   ],
   "metadata": {
    "collapsed": false
   }
  },
  {
   "cell_type": "markdown",
   "source": [
    "The notion of **denotation** of a _term_ and **truth** of a _formula_ under a given interpretation reqyures that we take into account all possible free variables occurring in the term or formula. We will do that by extending interpretations with a type--consistent assignment of values to free variables. Let $\\phi[\\bar{x}]$ be a formula in a first-order language ${\\cal L}$, and ${\\cal M}$ an interpretation for ${\\cal L}$. A **variable assignment** $\\sigma$ for $\\bar{x}$ is a function mapping any free variable $x^{\\tau}$ in the tuple $\\bar{x}$ to an element in ${\\cal U_{\\tau}}$."
   ],
   "metadata": {
    "collapsed": false
   }
  },
  {
   "cell_type": "markdown",
   "source": [
    "Assignments $\\sigma$ can be easily extended into a function $\\sigma^{*}$ that gives the denotation of any term in the language, being defined as follows:\n",
    "\n",
    " 1. For any variable $x$, $\\sigma^*(x) = \\sigma(x)$\n",
    " 2. For terms $t_1$, $\\ldots$, $t_n$ and $n$-ary function symbol $f$ with matching type\n",
    " $$\n",
    "     \\sigma^*(f(t_1,\\ldots,t_n)) = f^{\\cal M}(\\sigma^*(t_1),\\ldots,\\sigma^*(t_n))\n",
    " $$"
   ],
   "metadata": {
    "collapsed": false
   }
  },
  {
   "cell_type": "markdown",
   "source": [
    "We say that $\\phi$ is true under interpretation ${\\cal M}$, when its free variables are given values according to assignment $\\sigma$, denoted by ${\\cal M} \\models \\phi(\\sigma)$, in the following cases:\n",
    "\n",
    " - For any two terms $t_1$, $t_2$, ${\\cal M} \\models (t_1 = t_2)(\\sigma)$ iff $\\sigma^*(t_1)$ and $\\sigma^*(t_2)$ are the same element.\n",
    " - For any $n$-ary predicate symbol $P$ and terms $t_1,\\ldots,t_n$ of appropiate type, ${\\cal M} \\models P(t_1,\\ldots,t_n)(\\sigma)$ iff $(\\sigma^*(t_1),\\ldots,\\sigma^*(t_n)) \\in P^{\\cal M}$.\n",
    " - ${\\cal M} \\models (\\neg \\phi)(\\sigma)$ iff not ${\\cal M} \\models \\phi$.\n",
    " - If $\\phi \\equiv \\phi_1 \\land \\phi_2$, then ${\\cal M} \\models \\phi(\\sigma)$ iff ${\\cal M} \\models \\phi_1$ and ${\\cal M} \\models \\phi_2$.\n",
    " - If $\\phi \\equiv \\phi_1 \\lor \\phi_2$, then ${\\cal M} \\models \\phi(\\sigma)$ iff ${\\cal M} \\models \\phi_1$ or ${\\cal M} \\models \\phi_2$. \n",
    " - ${\\cal M} \\models (\\exists_{\\tau} x)(\\sigma)$ iff ${\\cal M} \\models \\phi(\\sigma[x/a])$, for some $a \\in {\\cal U}_\\tau$.\n",
    " - ${\\cal M} \\models (\\forall_{\\tau} x)(\\sigma)$ iff ${\\cal M} \\models \\phi(\\sigma[x/a])$, for every $a \\in {\\cal U}_\\tau$.\n",
    "\n",
    "where $\\sigma[x/a]$ is the function that assigns values as in $\\sigma$ except to variable $x$, which is assigned the value $a$."
   ],
   "metadata": {
    "collapsed": false
   }
  },
  {
   "cell_type": "markdown",
   "source": [
    "### Satisfaction and Validity"
   ],
   "metadata": {
    "collapsed": false
   }
  },
  {
   "cell_type": "markdown",
   "source": [
    "**Definition** (Satisfaction and Validity). Let $\\phi$ be a formula in some first-order language ${\\cal L}$. We say that\n",
    "\n",
    " - An **interpretation** ${\\cal M}$ satisfies $\\phi$ iff ${\\cal M} \\models \\phi(\\sigma)$ for any possible assignment $\\sigma$. $\\phi$ is _satisfiable_ iff there is some interpretation ${\\cal M}$ that satisfies it.\n",
    " - $\\phi$ is a **valid** formula, denoted $\\models \\phi$, iff every possible first-order interpretation of ${\\cal L}$ satisfies $\\phi$.\n",
    " \n",
    "Determining if a first-order logic sentence $\\phi$ is valid is undecidable, and so it is determining that it is satisfiable."
   ],
   "metadata": {
    "collapsed": false
   }
  },
  {
   "cell_type": "markdown",
   "source": [
    "### The Semantics of the Languages Constructed with Tarski"
   ],
   "metadata": {
    "collapsed": false
   }
  },
  {
   "cell_type": "markdown",
   "source": [
    "As we have seen above, the semantics of a first--order language ${\\cal L}$ are given by the interpretation ${\\cal M}$. Informally, interpretations are sets of tables, relations and functions that map terms and formulas into objects and truth values. Tarski restricts languages to have one single interpretation, therefore, languages have associated a model which provides the semantics of built-in sorts and functional symbols. \n",
    "\n",
    "We will next go over how Tarski implements interpretations ${\\cal M}$."
   ],
   "metadata": {
    "collapsed": false
   }
  },
  {
   "cell_type": "markdown",
   "source": [
    "### Universes"
   ],
   "metadata": {
    "collapsed": false
   }
  },
  {
   "cell_type": "markdown",
   "source": [
    "Universes are defined in Tarski as one defines constants and associates them to a given sort. For the built-in sorts `Real`, `Integer` and `Natural`, this is done by default for each new language ${\\cal L}$ defined. The construction routine associates with each of these sorts whatever is the range of real, integer and natural numbers that can be represented by the underlying hardware. \n",
    "\n",
    "Universes of custom sorts are initially empty, so the statement"
   ],
   "metadata": {
    "collapsed": false
   }
  },
  {
   "cell_type": "code",
   "execution_count": null,
   "outputs": [],
   "source": [
    "b1, b2, b3, b4 = [ bw.constant( 'b_{}'.format(k), block) for k in (1,2,3,4) ]"
   ],
   "metadata": {
    "collapsed": false,
    "pycharm": {
     "name": "#%%\n"
    }
   }
  },
  {
   "cell_type": "markdown",
   "source": [
    "is setting the definition of universe ${\\cal U}_{block}$ and ${\\cal U}_{place}$ to be"
   ],
   "metadata": {
    "collapsed": false
   }
  },
  {
   "cell_type": "markdown",
   "source": [
    "$$\n",
    "{\\cal U}_{block} = \\{ b_1,\\,b_2,\\,\\ldots,\\,b_4 \\} \\cup {\\cal U}_{block}\n",
    "$$\n",
    "\n",
    "$$\n",
    "{\\cal U}_{place} = \\{ b_1,\\,b_2,\\,\\ldots,\\,b_4 \\} \\cup {\\cal U}_{place}\n",
    "$$"
   ],
   "metadata": {
    "collapsed": false
   }
  },
  {
   "cell_type": "markdown",
   "source": [
    "as it is adding to ${\\cal U}_{block}$ and ${\\cal U}_{place}$ four objects. The latter is the result of having defined the sort _block_ to be a subset of _place_, so therefore, every element of _block_ is to be an element of _place_ too. After the statement"
   ],
   "metadata": {
    "collapsed": false
   }
  },
  {
   "cell_type": "code",
   "execution_count": null,
   "outputs": [],
   "source": [
    "table = bw.constant('table', place)"
   ],
   "metadata": {
    "collapsed": false,
    "pycharm": {
     "name": "#%%\n"
    }
   }
  },
  {
   "cell_type": "markdown",
   "source": [
    "the universe ${\\cal U}_{place}$ is made up of five objects"
   ],
   "metadata": {
    "collapsed": false
   }
  },
  {
   "cell_type": "markdown",
   "source": [
    "$$\n",
    "{\\cal U}_{place} = \\{ table \\} \\cup \\{ b_1,\\,b_2,\\,\\ldots,\\,b_4 \\}\n",
    "$$"
   ],
   "metadata": {
    "collapsed": false
   }
  },
  {
   "cell_type": "markdown",
   "source": [
    "We can check the definition of the universe of a given sort with the `dump` method"
   ],
   "metadata": {
    "collapsed": false
   }
  },
  {
   "cell_type": "code",
   "execution_count": null,
   "outputs": [],
   "source": [
    "place.dump()"
   ],
   "metadata": {
    "collapsed": false,
    "pycharm": {
     "name": "#%%\n"
    }
   }
  },
  {
   "cell_type": "markdown",
   "source": [
    "where `domain` refers to the fact that free variables of sort `place` are allowed to be assigned _exactly one_ of those values."
   ],
   "metadata": {
    "collapsed": false
   }
  },
  {
   "cell_type": "markdown",
   "source": [
    "### Giving Meaning to Function Symbols"
   ],
   "metadata": {
    "collapsed": false
   }
  },
  {
   "cell_type": "markdown",
   "source": [
    "For each function symbol $f$ the model ${\\cal M}$ of a language ${\\cal L}$ keeps a _dictionary_, where each entry corresponds to a tuple of **constants** $(o_1,\\ldots,o_n,o_{n+1})$ of types $\\tau_1,\\ldots,\\tau_n,\\tau_{n+1}$. A new mapping can be specified with the `add` method of a `Model` object $s$:"
   ],
   "metadata": {
    "collapsed": false
   }
  },
  {
   "cell_type": "code",
   "execution_count": null,
   "outputs": [],
   "source": [
    "import tarski.model\n",
    "import tarski.evaluators\n",
    "\n",
    "s = tarski.model.create(bw)\n",
    "s.evaluator = tarski.evaluators.get_entry_point('simple')"
   ],
   "metadata": {
    "collapsed": false,
    "pycharm": {
     "name": "#%%\n"
    }
   }
  },
  {
   "cell_type": "code",
   "execution_count": null,
   "outputs": [],
   "source": [
    "s.set( loc(b1), table)"
   ],
   "metadata": {
    "collapsed": false,
    "pycharm": {
     "name": "#%%\n"
    }
   }
  },
  {
   "cell_type": "markdown",
   "source": [
    "so that the statement above is effectively equivalent to $loc(b_1):=table$. The value associated to a given tuple of constants can be retrieved with Python's standard `[]` operator"
   ],
   "metadata": {
    "collapsed": false
   }
  },
  {
   "cell_type": "code",
   "execution_count": null,
   "outputs": [],
   "source": [
    "print(s[loc(b1)])"
   ],
   "metadata": {
    "collapsed": false,
    "pycharm": {
     "name": "#%%\n"
    }
   }
  },
  {
   "cell_type": "markdown",
   "source": [
    "We will give now value to some more functional symbols"
   ],
   "metadata": {
    "collapsed": false
   }
  },
  {
   "cell_type": "code",
   "execution_count": null,
   "outputs": [],
   "source": [
    "s.set(loc(b2), table) # block b2 is on the table\n",
    "s.set(loc(b3), b2) # block b3 is on block 2\n",
    "s.set(width(b1), 3.0) # block b1 has a width of 3.0 units\n",
    "s.set(width(b2), 3.0) # block b2 has a width of 3.0 units\n",
    "s.set(width(b3), 4.0) # block b3 has a width of 4.0 units"
   ],
   "metadata": {
    "collapsed": false,
    "pycharm": {
     "name": "#%%\n"
    }
   }
  },
  {
   "cell_type": "code",
   "execution_count": null,
   "outputs": [],
   "source": [
    "print(s[width(b1)])"
   ],
   "metadata": {
    "collapsed": false,
    "pycharm": {
     "name": "#%%\n"
    }
   }
  },
  {
   "cell_type": "markdown",
   "source": [
    "### Giving Meaning to Predicates"
   ],
   "metadata": {
    "collapsed": false
   }
  },
  {
   "cell_type": "markdown",
   "source": [
    "Tarski languages represent $P^{\\cal M}$ either _extensionally_, as **tables** of tuples of constants for which the predicate is defined, or _intensionally_ as a **procedure** that maps a tuple of constants into either $\\top$ or $\\bot$. \n",
    "\n",
    "We can add a new tuple of constants to the extension of predicate $P$ using the method `add`"
   ],
   "metadata": {
    "collapsed": false
   }
  },
  {
   "cell_type": "code",
   "execution_count": null,
   "outputs": [],
   "source": [
    "my_blocks = [ b1, b2, b3, b4]"
   ],
   "metadata": {
    "collapsed": false,
    "pycharm": {
     "name": "#%%\n"
    }
   }
  },
  {
   "cell_type": "code",
   "execution_count": null,
   "outputs": [],
   "source": [
    "for b in my_blocks :\n",
    "    s.add(clear, b)"
   ],
   "metadata": {
    "collapsed": false,
    "pycharm": {
     "name": "#%%\n"
    }
   }
  },
  {
   "cell_type": "markdown",
   "source": [
    "Evaluating the satisfiability of a predicate $P$ under a given interpretation of its arguments can be done via the `satisifed` method"
   ],
   "metadata": {
    "collapsed": false
   }
  },
  {
   "cell_type": "code",
   "execution_count": null,
   "outputs": [],
   "source": [
    "s[clear(b1)]"
   ],
   "metadata": {
    "collapsed": false,
    "pycharm": {
     "name": "#%%\n"
    }
   }
  },
  {
   "cell_type": "code",
   "execution_count": null,
   "outputs": [],
   "source": [
    "s[clear(b2)]"
   ],
   "metadata": {
    "collapsed": false,
    "pycharm": {
     "name": "#%%\n"
    }
   }
  },
  {
   "cell_type": "markdown",
   "source": [
    "### Relational Operators\n",
    "Relational operators like $>$, $=$ etc. have standard, well defined meanings for sorts such as `Real` and its descendants (including `Interval` sorts).\n",
    "Tarski offers a wide variety of built-in predicates (and functions) to represent compactly arbitrarily complex arithmetic and algebraic expressions. \n",
    "Nevertheless, by default Tarski does not attach these definition to first order languages. It is required of the user to do this explicitly, as covered in [this tutorial](advanced-problem-definition-techniques.ipynb).\n",
    "For the purpose of illustrating the use of interpretations (models) let's create the predicate `leq`"
   ],
   "metadata": {
    "collapsed": false
   }
  },
  {
   "cell_type": "code",
   "execution_count": null,
   "outputs": [],
   "source": [
    "leq = bw.predicate('leq', bw.Real, bw.Real)"
   ],
   "metadata": {
    "collapsed": false,
    "pycharm": {
     "name": "#%%\n"
    }
   }
  },
  {
   "cell_type": "markdown",
   "source": [
    "and we give meaning to it in the standard manner, for a few possible values"
   ],
   "metadata": {
    "collapsed": false
   }
  },
  {
   "cell_type": "code",
   "execution_count": null,
   "outputs": [],
   "source": [
    "import numpy as np"
   ],
   "metadata": {
    "collapsed": false,
    "pycharm": {
     "name": "#%%\n"
    }
   }
  },
  {
   "cell_type": "code",
   "execution_count": null,
   "outputs": [],
   "source": [
    "for x in np.arange(1.0,5.0):\n",
    "    for y in np.arange(x, 5.0):\n",
    "        s.add(leq, x, y)"
   ],
   "metadata": {
    "collapsed": false,
    "pycharm": {
     "name": "#%%\n"
    }
   }
  },
  {
   "cell_type": "markdown",
   "source": [
    "#### Example: Nested functions for compact preconditions\n",
    "\n",
    "Let us consider the case that we want to model Blocks World in such a way that the agent is required to look at a block before being able to pick it up, or to stack another block on top. For that we can introduce the 0-ary function"
   ],
   "metadata": {
    "collapsed": false
   }
  },
  {
   "cell_type": "code",
   "execution_count": null,
   "outputs": [],
   "source": [
    "looking_at = bw.function('looking_at', block)\n",
    "holding = bw.function('holding', block)"
   ],
   "metadata": {
    "collapsed": false,
    "pycharm": {
     "name": "#%%\n"
    }
   }
  },
  {
   "cell_type": "markdown",
   "source": [
    "that maps into the sort `block`. We have also defined a function `holding`, to represent the block being hold by the agent. Their value on the interpretation `s` can be defined using the `set()` method"
   ],
   "metadata": {
    "collapsed": false
   }
  },
  {
   "cell_type": "code",
   "execution_count": null,
   "outputs": [],
   "source": [
    "s.set( looking_at(), b2 )\n",
    "s.set( holding(), b1)"
   ],
   "metadata": {
    "collapsed": false,
    "pycharm": {
     "name": "#%%\n"
    }
   }
  },
  {
   "cell_type": "markdown",
   "source": [
    "The precondition of the `stack` action, requiring the block to be stacked to be smaller than the other one, at could then be modeled as follows"
   ],
   "metadata": {
    "collapsed": false
   }
  },
  {
   "cell_type": "code",
   "execution_count": null,
   "outputs": [],
   "source": [
    "precondition = (leq(width(holding()), width(looking_at()))) & (clear(looking_at()))"
   ],
   "metadata": {
    "collapsed": false,
    "pycharm": {
     "name": "#%%\n"
    }
   }
  },
  {
   "cell_type": "markdown",
   "source": [
    "which evaluates to `True`."
   ],
   "metadata": {
    "collapsed": false
   }
  },
  {
   "cell_type": "code",
   "execution_count": null,
   "outputs": [],
   "source": [
    "s[precondition]\n"
   ],
   "metadata": {
    "collapsed": false,
    "pycharm": {
     "name": "#%%\n"
    }
   }
  }
 ],
 "metadata": {
  "kernelspec": {
   "display_name": "Python 3",
   "language": "python",
   "name": "python3"
  },
  "language_info": {
   "codemirror_mode": {
    "name": "ipython",
    "version": 3
   },
   "file_extension": ".py",
   "mimetype": "text/x-python",
   "name": "python",
   "nbconvert_exporter": "python",
   "pygments_lexer": "ipython3",
   "version": "3.6.9"
  },
  "pycharm": {
   "stem_cell": {
    "cell_type": "raw",
    "source": [],
    "metadata": {
     "collapsed": false
    }
   }
  }
 },
 "nbformat": 4,
 "nbformat_minor": 2
}
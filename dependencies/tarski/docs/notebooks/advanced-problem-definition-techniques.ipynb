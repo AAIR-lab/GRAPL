{
 "cells": [
  {
   "cell_type": "markdown",
   "metadata": {},
   "source": [
    "# Advanced Problem Definition Techniques [WORK IN PROGRESS]\n",
    "\n",
    "## Using Theories\n"
   ]
  },
  {
   "cell_type": "code",
   "execution_count": null,
   "metadata": {},
   "outputs": [],
   "source": [
    "import tarski\n",
    "\n",
    "# 1. Create language equipped with the Arithmetic theory\n",
    "bw = tarski.language(theories=['equality', 'arithmetic'])\n",
    "\n",
    "# 2. Define sorts\n",
    "place = bw.sort('place')\n",
    "block = bw.sort('block', place)\n",
    "\n",
    "# 3. Define functions\n",
    "loc = bw.function( 'loc', block, place )\n",
    "width = bw.function('width', block, bw.Real)\n",
    "\n",
    "# 4. Define predicates\n",
    "clear = bw.predicate( 'clear', block)"
   ]
  },
  {
   "cell_type": "code",
   "execution_count": null,
   "metadata": {},
   "outputs": [],
   "source": [
    "b1, b2, b3, b4 = [ bw.constant( 'b_{}'.format(k), block) for k in (1,2,3,4) ]"
   ]
  },
  {
   "cell_type": "code",
   "execution_count": null,
   "metadata": {},
   "outputs": [],
   "source": [
    "table = bw.constant('table', place)"
   ]
  },
  {
   "cell_type": "code",
   "execution_count": null,
   "metadata": {},
   "outputs": [],
   "source": [
    "import tarski.model\n",
    "import tarski.evaluators\n",
    "\n",
    "s = tarski.model.create(bw)\n",
    "s.evaluator = tarski.evaluators.get_entry_point('simple')"
   ]
  },
  {
   "cell_type": "code",
   "execution_count": null,
   "metadata": {},
   "outputs": [],
   "source": [
    "s.set( loc(b1), table)"
   ]
  },
  {
   "cell_type": "code",
   "execution_count": null,
   "metadata": {},
   "outputs": [],
   "source": [
    "s.set(loc(b2), table) # block b2 is on the table\n",
    "s.set(loc(b3), b2) # block b3 is on block 2\n",
    "s.set(width(b1), 3.0) # block b1 has a width of 3.0 units\n",
    "s.set(width(b2), 3.0) # block b2 has a width of 3.0 units\n",
    "s.set(width(b3), 4.0) # block b3 has a width of 4.0 units"
   ]
  },
  {
   "cell_type": "markdown",
   "metadata": {},
   "source": [
    "## Built-in Function Symbols"
   ]
  },
  {
   "cell_type": "markdown",
   "metadata": {},
   "source": [
    "A number of functions are already defined for the built-in sorts `Real`, `Integer` and `Natural`, in order to facilitate the definition of terms that model arithmetic operators, algebraic and transcendental functions"
   ]
  },
  {
   "cell_type": "markdown",
   "metadata": {},
   "source": [
    "| Name | Syntax | Notes | Name | Syntax | Notes |\n",
    "|------|:--------|:-------------------|:----------|:-----|:------|\n",
    "| Addition | `x + y` |          | Power | `x ** y` |  |  \n",
    "| Subtraction | `x - y` |       |  | |  | \n",
    "| Multiplication | `x * y` |    | | |  |\n",
    "| Division | `x / y` |          | | ||\n",
    "| Modulo | `x % y` |            | | |  |\n"
   ]
  },
  {
   "cell_type": "markdown",
   "metadata": {},
   "source": [
    "### Examples"
   ]
  },
  {
   "cell_type": "markdown",
   "metadata": {},
   "source": [
    "We can write crazy stuff like:"
   ]
  },
  {
   "cell_type": "code",
   "execution_count": null,
   "metadata": {},
   "outputs": [],
   "source": [
    "expr1 = width(b1) + width(b2)"
   ]
  },
  {
   "cell_type": "code",
   "execution_count": null,
   "metadata": {},
   "outputs": [],
   "source": [
    "print(expr1)"
   ]
  },
  {
   "cell_type": "code",
   "execution_count": null,
   "metadata": {},
   "outputs": [],
   "source": [
    "expr2 = width(b1) * width(b2)"
   ]
  },
  {
   "cell_type": "code",
   "execution_count": null,
   "metadata": {},
   "outputs": [],
   "source": [
    "print(expr2)"
   ]
  },
  {
   "cell_type": "markdown",
   "metadata": {},
   "source": [
    "and evaluate it with the $\\sigma$ operator, which is implemented by the `eval` method of our language"
   ]
  },
  {
   "cell_type": "code",
   "execution_count": null,
   "metadata": {},
   "outputs": [],
   "source": [
    "s[expr1]"
   ]
  },
  {
   "cell_type": "code",
   "execution_count": null,
   "metadata": {},
   "outputs": [],
   "source": [
    "s[expr2]"
   ]
  },
  {
   "cell_type": "markdown",
   "metadata": {},
   "source": [
    "### Giving Meaning to Predicates"
   ]
  },
  {
   "cell_type": "markdown",
   "metadata": {},
   "source": [
    "Tarski languages represent $P^{\\cal M}$ either _extensionally_, as **tables** of tuples of constants for which the predicate is defined, or _intensionally_ as a **procedure** that maps a tuple of constants into either $\\top$ or $\\bot$. \n",
    "\n",
    "We can add a new tuple of constants to the extension of predicate $P$ using the method `add`"
   ]
  },
  {
   "cell_type": "code",
   "execution_count": null,
   "metadata": {},
   "outputs": [],
   "source": [
    "my_blocks = [ b1, b2, b3, b4]"
   ]
  },
  {
   "cell_type": "code",
   "execution_count": null,
   "metadata": {},
   "outputs": [],
   "source": [
    "for b in my_blocks :\n",
    "    s.add(clear, b)"
   ]
  },
  {
   "cell_type": "markdown",
   "metadata": {},
   "source": [
    "Evaluating the satisfiability of a predicate $P$ under a given interpretation of its arguments can be done via the `satisifed` method"
   ]
  },
  {
   "cell_type": "code",
   "execution_count": null,
   "metadata": {},
   "outputs": [],
   "source": [
    "print(s[clear(b1)])"
   ]
  },
  {
   "cell_type": "code",
   "execution_count": null,
   "metadata": {},
   "outputs": [],
   "source": [
    "print(s[clear(b2)])"
   ]
  },
  {
   "cell_type": "markdown",
   "metadata": {},
   "source": [
    "\n",
    "\n",
    "Relational operators like $>$, $=$ etc. are represented always **procedurally** when the sorts of the arguments are built-in sorts such as `Real`."
   ]
  },
  {
   "cell_type": "markdown",
   "metadata": {},
   "source": [
    "**NB**: It may be interesting to highlight that predicates are actually _constraints_ that we use to define states."
   ]
  },
  {
   "cell_type": "markdown",
   "metadata": {},
   "source": [
    "## Formula evaluation\n",
    "### Example: Nested functions for compact preconditions"
   ]
  },
  {
   "cell_type": "code",
   "execution_count": null,
   "metadata": {
    "pycharm": {
     "name": "#%%\n"
    }
   },
   "outputs": [],
   "source": [
    "looking_at = bw.function('looking_at', block)\n",
    "s.set(looking_at(), b1)\n",
    "precondition = (width(looking_at()) <= width(b2)) & (clear(b2))\n",
    "s[precondition]"
   ]
  }
 ],
 "metadata": {
  "kernelspec": {
   "display_name": "Python 3",
   "language": "python",
   "name": "python3"
  },
  "language_info": {
   "codemirror_mode": {
    "name": "ipython",
    "version": 3
   },
   "file_extension": ".py",
   "mimetype": "text/x-python",
   "name": "python",
   "nbconvert_exporter": "python",
   "pygments_lexer": "ipython3",
   "version": "3.5.2"
  },
  "pycharm": {
   "stem_cell": {
    "cell_type": "raw",
    "source": [],
    "metadata": {
     "collapsed": false
    }
   }
  }
 },
 "nbformat": 4,
 "nbformat_minor": 2
}
{
 "cells": [
  {
   "cell_type": "markdown",
   "source": [
    "# Grounding Schematic Representations\n",
    "\n",
    "Some modeling languages such as PDDL allow the use of first-order variables in order to compactly represent\n",
    "several actions and state variables that have a similar form. Most planners, however, work on the ground representation,\n",
    "where all variables have been appropriately substituted by type-consistent objects.\n",
    "\n",
    "Tarski allows the grounding of such lifted representations by implementing a variation of the strategy\n",
    "implemented by Malte Helmert in the Fast Downward planner\n",
    "(Helmert, Malte.\n",
    "\"[Concise finite-domain representations for PDDL planning tasks](https://ai.dmi.unibas.ch/papers/helmert-aij2009.pdf).\"\n",
    "_Artificial Intelligence_ 173.5-6 (2009): 503-535).\n",
    "Fast Downward incrementally grounds only those atoms and ground actions that are determined to be\n",
    "_reachable from the initial state of the problem_. This removes from consideration a (sometimes) large\n",
    "number of ground elements that will never be relevant for the problem. Determining such reachability precisely\n",
    "is as hard as planning itself, but Fast Downward overapproximates the set of reachable elements using the delete-free\n",
    "relaxation of the problem.\n",
    "\n",
    "Helmert's algorithm is based on a logic program (LP) that encodes such notion of reachability, and whose canonical\n",
    "model precisely encodes the set of reachable ground atoms and actions of the problem.\n",
    "Whereas Fast Downward solves the LP itself, Tarski generates the program and then relies on an off-the-shelf\n",
    "answer set solver to find the model for it. In particular, Tarski uses the tools provided by the \n",
    "[Potassco ASP suite](https://potassco.org/). These are neatly packaged for e.g. different versions of Ubuntu and can be \n",
    "installed easily with `sudo apt install gringo`."
   ],
   "metadata": {
    "collapsed": false
   }
  },
  {
   "cell_type": "markdown",
   "source": [
    "Let us quickly show how to ground a standard Gripper problem encoded with the standard schematic representation:"
   ],
   "metadata": {
    "collapsed": false
   }
  },
  {
   "cell_type": "code",
   "execution_count": null,
   "outputs": [],
   "source": [
    "from tarski.io import PDDLReader\n",
    "\n",
    "reader = PDDLReader(raise_on_error=True)\n",
    "reader.parse_domain('./benchmarks/gripper.pddl')\n",
    "problem = reader.parse_instance('./benchmarks/gripper_prob01.pddl')\n",
    "lang = problem.language\n"
   ],
   "metadata": {
    "collapsed": false,
    "pycharm": {
     "name": "#%%\n"
    }
   }
  },
  {
   "cell_type": "markdown",
   "source": [
    "We can get hold of the classes encapsulating the grounding process from the `tarski.grounding` module"
   ],
   "metadata": {
    "collapsed": false
   }
  },
  {
   "cell_type": "code",
   "execution_count": null,
   "outputs": [],
   "source": [
    "from tarski.grounding import LPGroundingStrategy\n",
    "from tarski.grounding.errors import ReachabilityLPUnsolvable"
   ],
   "metadata": {
    "collapsed": false,
    "pycharm": {
     "name": "#%%\n"
    }
   }
  },
  {
   "cell_type": "markdown",
   "source": [
    "and ground the instance of Blocks World with a one-liner"
   ],
   "metadata": {
    "collapsed": false
   }
  },
  {
   "cell_type": "code",
   "execution_count": null,
   "outputs": [],
   "source": [
    "grounder = LPGroundingStrategy(reader.problem)\n"
   ],
   "metadata": {
    "collapsed": false,
    "pycharm": {
     "name": "#%%\n"
    }
   }
  },
  {
   "cell_type": "markdown",
   "source": [
    "We can inspect the results of the grounding process with ease. For the ground actions, \n",
    "we can query the `grounding` object for a dictionary that maps every action schema to\n",
    "a list tuples of object names that schema variables are to be bound to, as they were \n",
    "found to be reachable"
   ],
   "metadata": {
    "collapsed": false
   }
  },
  {
   "cell_type": "code",
   "execution_count": null,
   "outputs": [],
   "source": [
    "try:\n",
    "    actions = grounder.ground_actions()   \n",
    "    for name, bindings in actions.items():\n",
    "        print(f'Action schema {name} has {len(bindings)} reachable bindings:')\n",
    "        print(\", \".join(map(str, bindings)))\n",
    "except ReachabilityLPUnsolvable:\n",
    "    print(\"Problem was determined to be unsolvable during grounding\")\n"
   ],
   "metadata": {
    "collapsed": false,
    "pycharm": {
     "name": "#%%\n"
    }
   }
  },
  {
   "cell_type": "markdown",
   "source": [
    "Note that the grounder is sometimes able to determine that an instance is unsolvable during its reachability analysis,\n",
    "in which case it throws an exception.\n",
    "The astute reader may be now wondering why we only return the _bindings_ rather\n",
    "than the grounded actions themselves. The reason is that doing so is not safe\n",
    "in general, as big instances (such as those commonly found on the IPC-18 benchmarks)\n",
    "result in thousands of ground operators, and is possible to exhaust the memory\n",
    "available to the Python interpreter. \n",
    "\n",
    "To ameliorate that issue, we settle for returning instead the minimal amount of data\n",
    "necessary so users can decide how to instantiate ground operators efficiently.  "
   ],
   "metadata": {
    "collapsed": false
   }
  },
  {
   "cell_type": "markdown",
   "source": [
    "To access the ground atoms, or _state variables_, identified during the grounding\n",
    "process, we use a similar interface"
   ],
   "metadata": {
    "collapsed": false
   }
  },
  {
   "cell_type": "code",
   "execution_count": null,
   "outputs": [],
   "source": [
    "try:\n",
    "    lpvariables = grounder.ground_state_variables()    \n",
    "    for i, atom in lpvariables.enumerate():\n",
    "        print(f'Atom #{i}: {atom}')\n",
    "except ReachabilityLPUnsolvable:\n",
    "    print(\"Problem was determined to be unsolvable during grounding\")"
   ],
   "metadata": {
    "collapsed": false,
    "pycharm": {
     "name": "#%%\n"
    }
   }
  },
  {
   "cell_type": "markdown",
   "source": [
    "We note that in this case we _do_ return the actual grounded language element. This\n",
    "is because the number of fluents is not generally subject to the same kind of \n",
    "combinatorial explosion that ground actions are. **This assessment may change\n",
    "in the future**."
   ],
   "metadata": {
    "collapsed": false,
    "pycharm": {
     "name": "#%% md\n"
    }
   }
  }
 ],
 "metadata": {
  "kernelspec": {
   "name": "python3",
   "language": "python",
   "display_name": "Python 3"
  },
  "language_info": {
   "codemirror_mode": {
    "name": "ipython",
    "version": 2
   },
   "file_extension": ".py",
   "mimetype": "text/x-python",
   "name": "python",
   "nbconvert_exporter": "python",
   "pygments_lexer": "ipython2",
   "version": "2.7.6"
  },
  "pycharm": {
   "stem_cell": {
    "cell_type": "raw",
    "source": [],
    "metadata": {
     "collapsed": false
    }
   }
  }
 },
 "nbformat": 4,
 "nbformat_minor": 0
}
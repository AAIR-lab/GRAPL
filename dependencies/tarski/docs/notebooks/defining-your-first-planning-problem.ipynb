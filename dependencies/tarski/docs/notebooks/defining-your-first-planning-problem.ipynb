{
 "cells": [
  {
   "cell_type": "markdown",
   "source": [
    "# Defining Your First Classical Planning Problem\n",
    "\n",
    "Classical planning problems are usually encoded in modeling language such as `STRIPS`, `PDDL` or\n",
    "`Functional STRIPS`. These languages provide a way to succinctly encode the problem dynamics,\n",
    "initial state and goal. Additionally, most of these languages are based, to some degree or another,\n",
    "in the standard concepts of [first-order logics](https://en.wikipedia.org/wiki/First-order_logic).\n",
    "We here will briefly describe these concepts and show how to use them in order to easily\n",
    "define classical planning problems in a programmatic fashion with Tarski.\n",
    "\n",
    "## Creating a Language for the Blocks World\n",
    "\n",
    "In order to define any problem, we will first need to describe the _language_ with which that\n",
    "problem will be defined. To do so, Tarski uses many-sorted first-order logical languages, which\n",
    "are standard first-order languages enriched with the notion of _sorts_ or _types_. Any such language\n",
    "is defined by a number of predicate and function symbols, with their associated arities, plus a \n",
    "number of sorts. Let us start by creating a language object"
   ],
   "metadata": {
    "collapsed": false
   }
  },
  {
   "cell_type": "code",
   "execution_count": null,
   "outputs": [],
   "source": [
    "import tarski\n",
    "lang = tarski.fstrips.language(\"blocksworld\")\n",
    "lang"
   ],
   "metadata": {
    "collapsed": false,
    "pycharm": {
     "name": "#%% \n"
    }
   }
  },
  {
   "cell_type": "markdown",
   "source": [
    "`lang` is a language named `blocksworld `with only the default \"object\" sort and the equality \n",
    "operators $=$ and $\\neq$.\n",
    "These too can be disabled, but by default Tarski will attach them to any language.\n",
    "Let us now create the predicates used in the standard definitions of the blocks world.\n",
    "Note that in most of these definitions, no types are used."
   ],
   "metadata": {
    "collapsed": false
   }
  },
  {
   "cell_type": "code",
   "execution_count": null,
   "outputs": [],
   "source": [
    "handempty = lang.predicate('handempty')\n",
    "on = lang.predicate('on', 'object', 'object')\n",
    "ontable = lang.predicate('ontable', 'object')\n",
    "clear = lang.predicate('clear', 'object')\n",
    "holding = lang.predicate('holding', 'object')"
   ],
   "metadata": {
    "collapsed": false,
    "pycharm": {
     "name": "#%% \n"
    }
   }
  },
  {
   "cell_type": "markdown",
   "source": [
    "That creates 5 different predicates. Predicate $handempty$ is nullary (i.e. has arity 0);\n",
    "predicate $on$ is binary, and applies to pairs of objects, and so on.\n",
    "In order to define some particular instance, we will need some constants (these are usually \n",
    "referred to as \"object\" in the `PDDL` language):"
   ],
   "metadata": {
    "collapsed": false
   }
  },
  {
   "cell_type": "code",
   "execution_count": null,
   "outputs": [],
   "source": [
    "b1, b2, b3 = [lang.constant(f'b{k}', 'object') for k in range(1, 4)]"
   ],
   "metadata": {
    "collapsed": false,
    "pycharm": {
     "name": "#%% \n"
    }
   }
  },
  {
   "cell_type": "markdown",
   "source": [
    "## Defining the Problem\n",
    "We now have all the elements we need in order to define a particular problem.\n",
    "Let us do so:\n"
   ],
   "metadata": {
    "collapsed": false
   }
  },
  {
   "cell_type": "code",
   "execution_count": null,
   "outputs": [],
   "source": [
    "problem = tarski.fstrips.create_fstrips_problem(\n",
    "    domain_name='blocksworld', problem_name='tutorial', language=lang)\n"
   ],
   "metadata": {
    "collapsed": false,
    "pycharm": {
     "name": "#%% \n"
    }
   }
  },
  {
   "cell_type": "markdown",
   "source": [
    "Notice that the problem constructor takes the language that will be used to define it.\n",
    "Let's start by defining an initial situation:"
   ],
   "metadata": {
    "collapsed": false
   }
  },
  {
   "cell_type": "code",
   "execution_count": null,
   "outputs": [],
   "source": [
    "init = tarski.model.create(lang)\n",
    "init.add(clear(b1))\n",
    "init.add(clear(b3))\n",
    "init.add(on(b1, b2))\n",
    "init.add(ontable(b2))\n",
    "init.add(ontable(b3))\n",
    "init.add(handempty())\n",
    "problem.init = init"
   ],
   "metadata": {
    "collapsed": false,
    "pycharm": {
     "name": "#%% \n"
    }
   }
  },
  {
   "cell_type": "markdown",
   "source": [
    "Note that we first created a model, and then we explicitly\n",
    "declared which atoms are true under that model. In the tradition of the closed-world \n",
    "assumption, the rest of atoms are considered to be false, and this uniquely determines a standard\n",
    "first-order interpretation. \n",
    "Note also that we make use of the flexibility of Python in order to allow an expression such as\n",
    "`on(b1, b2)` to actually denote an object of Python type `Atom`\n",
    "\n",
    "We can quickly inspect the model we created:"
   ],
   "metadata": {
    "collapsed": false
   }
  },
  {
   "cell_type": "code",
   "execution_count": null,
   "outputs": [],
   "source": [
    "problem.init.as_atoms()\n"
   ],
   "metadata": {
    "collapsed": false,
    "pycharm": {
     "name": "#%% \n"
    }
   }
  },
  {
   "cell_type": "markdown",
   "source": [
    "Let us now set a simple goal:"
   ],
   "metadata": {
    "collapsed": false
   }
  },
  {
   "cell_type": "code",
   "execution_count": null,
   "outputs": [],
   "source": [
    "problem.goal = on(b1, b2) & on(b2, b3) & clear(b1)"
   ],
   "metadata": {
    "collapsed": false,
    "pycharm": {
     "name": "#%% \n"
    }
   }
  },
  {
   "cell_type": "markdown",
   "source": [
    "Notice how our goal is a simple conjunction of atoms, and how again we made use of Python's\n",
    "hability to redefine the meaning of builtin operators such as `&`. The above expression would\n",
    "be equivalent to:"
   ],
   "metadata": {
    "collapsed": false
   }
  },
  {
   "cell_type": "code",
   "execution_count": null,
   "outputs": [],
   "source": [
    "from tarski.syntax import land\n",
    "problem.goal = land(on(b1, b2), on(b2, b3), clear(b1))\n"
   ],
   "metadata": {
    "collapsed": false,
    "pycharm": {
     "name": "#%% \n"
    }
   }
  },
  {
   "cell_type": "markdown",
   "source": [
    "The only thing that remains to define a complete blocks instance are, of course, the actions.\n",
    "As customary in action languages, we can make use of \"action schemas\" that appeal to first-order\n",
    "variables. Let us define a `pick-up` action schema that allows us to pick any block from the table: "
   ],
   "metadata": {
    "collapsed": false
   }
  },
  {
   "cell_type": "code",
   "execution_count": null,
   "outputs": [],
   "source": [
    "import tarski.fstrips as fs\n",
    "\n",
    "x = lang.variable('x', 'object')\n",
    "y = lang.variable('y', 'object')\n",
    "\n",
    "pu = problem.action('pick-up', [x],\n",
    "                    precondition=clear(x) & ontable(x) & handempty(),\n",
    "                    effects=[fs.DelEffect(ontable(x)),\n",
    "                             fs.DelEffect(clear(x)),\n",
    "                             fs.DelEffect(handempty()),\n",
    "                             fs.AddEffect(holding(x))])"
   ],
   "metadata": {
    "collapsed": false,
    "pycharm": {
     "name": "#%% \n"
    }
   }
  },
  {
   "cell_type": "markdown",
   "source": [
    "In words, action schema `pick-up` can pick up any block $x$ provided that the block is clear and\n",
    "on the table, and the robot hand is empty. The effect of doing so is encoded through standard \n",
    "`STRIPS` add- and delete- effects: $x$ stops being clear and on the table, and the robot hand\n",
    "stops being empty and is now holding $x$.\n",
    "\n",
    "The rest of the standard actions (`put-down`, `stack`, `unstack`) would be defined in the same manner.\n",
    "We show them next for the sake of completeness:"
   ],
   "metadata": {
    "collapsed": false
   }
  },
  {
   "cell_type": "code",
   "execution_count": null,
   "outputs": [],
   "source": [
    "pd = problem.action('put-down', [x],\n",
    "                   precondition=holding(x),\n",
    "                   effects=[fs.AddEffect(ontable(x)),\n",
    "                            fs.AddEffect(clear(x)),\n",
    "                            fs.AddEffect(handempty()),\n",
    "                            fs.DelEffect(holding(x))])\n",
    "\n",
    "us = problem.action('unstack', [x, y],\n",
    "                   precondition=on(x, y) & clear(x) & handempty(),\n",
    "                   effects=[fs.DelEffect(on(x, y)),\n",
    "                            fs.AddEffect(clear(y)),\n",
    "                            fs.DelEffect(clear(x)),\n",
    "                            fs.DelEffect(handempty()),\n",
    "                            fs.AddEffect(holding(x))])\n",
    "\n",
    "st = problem.action('stack', [x, y],\n",
    "                   precondition=holding(x) & clear(y) & (x != y),\n",
    "                   effects=[fs.AddEffect(on(x, y)),\n",
    "                            fs.DelEffect(clear(y)),\n",
    "                            fs.AddEffect(clear(x)),\n",
    "                            fs.AddEffect(handempty()),\n",
    "                            fs.DelEffect(holding(x))])"
   ],
   "metadata": {
    "collapsed": false,
    "pycharm": {
     "name": "#%% \n"
    }
   }
  }
 ],
 "metadata": {
  "kernelspec": {
   "display_name": "Python 3",
   "language": "python",
   "name": "python3"
  },
  "language_info": {
   "codemirror_mode": {
    "name": "ipython",
    "version": 3
   },
   "file_extension": ".py",
   "mimetype": "text/x-python",
   "name": "python",
   "nbconvert_exporter": "python",
   "pygments_lexer": "ipython3",
   "version": "3.6.5"
  },
  "pycharm": {
   "stem_cell": {
    "cell_type": "raw",
    "source": [],
    "metadata": {
     "collapsed": false
    }
   }
  }
 },
 "nbformat": 4,
 "nbformat_minor": 2
}
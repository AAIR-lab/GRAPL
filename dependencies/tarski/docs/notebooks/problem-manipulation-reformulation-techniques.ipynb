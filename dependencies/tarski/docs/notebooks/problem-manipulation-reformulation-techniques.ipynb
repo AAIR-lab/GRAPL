{
 "cells": [
  {
   "cell_type": "markdown",
   "source": [
    "# Problem Manipulation and Reformulation Techniques [TODO]\n",
    "\n",
    "TODO :-)\n",
    "\n",
    "## FOL Syntactic Transformations"
   ],
   "metadata": {
    "collapsed": false,
    "pycharm": {
     "name": "#%% md\n"
    }
   }
  }
 ],
 "metadata": {
  "kernelspec": {
   "display_name": "Python 3",
   "language": "python",
   "name": "python3"
  },
  "language_info": {
   "codemirror_mode": {
    "name": "ipython",
    "version": 3
   },
   "file_extension": ".py",
   "mimetype": "text/x-python",
   "name": "python",
   "nbconvert_exporter": "python",
   "pygments_lexer": "ipython3",
   "version": "3.6.5"
  },
  "pycharm": {
   "stem_cell": {
    "cell_type": "raw",
    "source": [],
    "metadata": {
     "collapsed": false
    }
   }
  }
 },
 "nbformat": 4,
 "nbformat_minor": 2
}
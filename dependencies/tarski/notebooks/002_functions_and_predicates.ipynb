{
 "cells": [
  {
   "cell_type": "markdown",
   "metadata": {},
   "source": [
    "# Functions and Predicates"
   ]
  },
  {
   "cell_type": "markdown",
   "metadata": {},
   "source": [
    "Let's start populating the language ```bw``` for describing instances of Blocks World"
   ]
  },
  {
   "cell_type": "code",
   "execution_count": 1,
   "metadata": {
    "collapsed": true
   },
   "outputs": [],
   "source": [
    "import tarski\n",
    "import tarski.errors as err"
   ]
  },
  {
   "cell_type": "code",
   "execution_count": 2,
   "metadata": {
    "collapsed": true
   },
   "outputs": [],
   "source": [
    "bw = tarski.language()"
   ]
  },
  {
   "cell_type": "markdown",
   "metadata": {},
   "source": [
    "Blocks Worlds are made of objects of two sorts:"
   ]
  },
  {
   "cell_type": "code",
   "execution_count": 3,
   "metadata": {
    "collapsed": true
   },
   "outputs": [],
   "source": [
    "place = bw.sort('place')"
   ]
  },
  {
   "cell_type": "markdown",
   "metadata": {},
   "source": [
    "and"
   ]
  },
  {
   "cell_type": "code",
   "execution_count": 4,
   "metadata": {
    "collapsed": true
   },
   "outputs": [],
   "source": [
    "block = bw.sort('block', place)"
   ]
  },
  {
   "cell_type": "markdown",
   "metadata": {},
   "source": [
    "We populate our instance with a few blocks"
   ]
  },
  {
   "cell_type": "code",
   "execution_count": 5,
   "metadata": {
    "collapsed": true
   },
   "outputs": [],
   "source": [
    "b1, b2, b3, b4 = [ bw.constant('b_{}'.format(k), block )  for k in (1,2,3,4) ]"
   ]
  },
  {
   "cell_type": "markdown",
   "metadata": {},
   "source": [
    "and a table"
   ]
  },
  {
   "cell_type": "code",
   "execution_count": 6,
   "metadata": {
    "collapsed": true
   },
   "outputs": [],
   "source": [
    "table = bw.constant('table', place)"
   ]
  },
  {
   "cell_type": "markdown",
   "metadata": {},
   "source": [
    "## Functions"
   ]
  },
  {
   "cell_type": "markdown",
   "metadata": {},
   "source": [
    "Function symbols $f$ are used to represent mappings between several sorts $\\tau$. Formally, we will define $f$ as mappings\n",
    "\n",
    "$$\n",
    "f : \\tau_1, \\ldots, \\tau_n \\mapsto \\tau_{n+1}\n",
    "$$\n",
    "\n",
    "Functions $f$ have _arity_ $n \\geq 0$, their _domain_ is the cartesian product $\\tau_1 \\times \\tau_2 \\ldots \\times \\tau_n$ and their _codomain_ is the sort $\\tau_{n+1}$. The _signature_ $\\sigma_f$ of $f$ corresponds with the tuple\n",
    "\n",
    "$$\n",
    "(f, \\tau_1, \\ldots, \\tau_n, \\tau_{n+1})\n",
    "$$\n",
    "\n",
    "and allows to uniquely identify a function: ```Tarski``` doesn't allow languages with functions $f$ and $f'$ such that $\\sigma_f$ $=$ $\\sigma_{f'}$."
   ]
  },
  {
   "cell_type": "markdown",
   "metadata": {},
   "source": [
    "For Blocks World we can define the function $loc: block \\mapsto place$, which we use to refer indirectly to the object a given block is _on top of_ at any point in time"
   ]
  },
  {
   "cell_type": "code",
   "execution_count": 7,
   "metadata": {
    "collapsed": true
   },
   "outputs": [],
   "source": [
    "loc = bw.function('loc', block, place)"
   ]
  },
  {
   "cell_type": "markdown",
   "metadata": {},
   "source": [
    "We note that the arguments of this method correspond with the components of a function signature, hence"
   ]
  },
  {
   "cell_type": "code",
   "execution_count": 8,
   "metadata": {},
   "outputs": [
    {
     "name": "stdout",
     "output_type": "stream",
     "text": [
      "Domain of loc/1: (block,)\n",
      "Codomain of loc/1: Sort(place)\n",
      "Type of loc/1: (block, place)\n",
      "Arity of loc/1 : 1\n"
     ]
    }
   ],
   "source": [
    "print('Domain of {}: {}'.format(loc, loc.domain))\n",
    "print('Codomain of {}: {}'.format(loc, loc.codomain))\n",
    "print('Type of {}: {}'.format(loc, loc.sort))\n",
    "print('Arity of {} : {}'.format(loc, loc.arity))"
   ]
  },
  {
   "cell_type": "markdown",
   "metadata": {},
   "source": [
    "Printing function objects indicates the arity (number of arguments) the function was declared with, following the convention typically used in Prolog."
   ]
  },
  {
   "cell_type": "markdown",
   "metadata": {},
   "source": [
    "## Predicates as Relation Symbols"
   ]
  },
  {
   "cell_type": "markdown",
   "metadata": {},
   "source": [
    "Relations between objects and intrinsic properties of objects are modelled by means of _relation symbols_ or _predicates_."
   ]
  },
  {
   "cell_type": "code",
   "execution_count": 9,
   "metadata": {
    "collapsed": true
   },
   "outputs": [],
   "source": [
    "clear = bw.predicate('clear', block )"
   ]
  },
  {
   "cell_type": "markdown",
   "metadata": {},
   "source": [
    "By default, ```Tarski``` languages do not define implictly any kind of builtin predicate or function. For instance, if we try to write something like"
   ]
  },
  {
   "cell_type": "code",
   "execution_count": 10,
   "metadata": {},
   "outputs": [
    {
     "name": "stdout",
     "output_type": "stream",
     "text": [
      "We caught an exception\n",
      "Operator '=' not defined on domain (<class 'tarski.syntax.terms.Term'>, <class 'tarski.syntax.terms.Term'>)\n"
     ]
    }
   ],
   "source": [
    "try:\n",
    "    b1 == b2\n",
    "except err.LanguageError as e:\n",
    "    print(\"We caught an exception\")\n",
    "    print(e)"
   ]
  },
  {
   "cell_type": "markdown",
   "metadata": {},
   "source": [
    "For that we need to explicitly attach _theories_ to our language, as shown in [this advanced tutorial](101_advanced_tutorial_theories.ipynb)."
   ]
  },
  {
   "cell_type": "markdown",
   "metadata": {},
   "source": [
    "### Next: [Terms and Formulas](003_terms_and_formulas.ipynb)"
   ]
  },
  {
   "cell_type": "code",
   "execution_count": null,
   "metadata": {
    "collapsed": true
   },
   "outputs": [],
   "source": []
  }
 ],
 "metadata": {
  "kernelspec": {
   "display_name": "Python 3",
   "language": "python",
   "name": "python3"
  },
  "language_info": {
   "codemirror_mode": {
    "name": "ipython",
    "version": 3
   },
   "file_extension": ".py",
   "mimetype": "text/x-python",
   "name": "python",
   "nbconvert_exporter": "python",
   "pygments_lexer": "ipython3",
   "version": "3.5.2"
  }
 },
 "nbformat": 4,
 "nbformat_minor": 2
}

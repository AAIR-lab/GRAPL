{
 "cells": [
  {
   "cell_type": "code",
   "execution_count": 1,
   "metadata": {
    "collapsed": true
   },
   "outputs": [],
   "source": [
    "import sys\n",
    "sys.path = ['../../src'] + sys.path # this ensures the notebook uses the source version of Tarski"
   ]
  },
  {
   "cell_type": "code",
   "execution_count": 2,
   "metadata": {
    "collapsed": true
   },
   "outputs": [],
   "source": [
    "import pyrddl"
   ]
  },
  {
   "cell_type": "code",
   "execution_count": 3,
   "metadata": {
    "collapsed": true
   },
   "outputs": [],
   "source": [
    "from tarski.io import rddl"
   ]
  },
  {
   "cell_type": "code",
   "execution_count": 4,
   "metadata": {},
   "outputs": [
    {
     "name": "stderr",
     "output_type": "stream",
     "text": [
      "WARNING: Token 'TERMINAL' defined, but not used\n",
      "WARNING: Token 'OBSERVATION' defined, but not used\n",
      "WARNING: Token 'DOLLAR_SIGN' defined, but not used\n",
      "WARNING: Token 'MULTINOMIAL' defined, but not used\n",
      "WARNING: Token 'DERIVED_FLUENT' defined, but not used\n",
      "WARNING: Token 'QUESTION' defined, but not used\n",
      "WARNING: Token 'DOT' defined, but not used\n",
      "WARNING: There are 7 unused tokens\n",
      "Generating LALR tables\n"
     ]
    }
   ],
   "source": [
    "mr_reader = rddl.Reader('../../tests/data/rddl/Mars_Rover.rddl')"
   ]
  },
  {
   "cell_type": "code",
   "execution_count": 5,
   "metadata": {
    "collapsed": true
   },
   "outputs": [],
   "source": [
    "mr_reader.translate_rddl_model()"
   ]
  },
  {
   "cell_type": "code",
   "execution_count": 6,
   "metadata": {},
   "outputs": [
    {
     "data": {
      "text/plain": [
       "<pyrddl.rddl.RDDL at 0x7faf404653c8>"
      ]
     },
     "execution_count": 6,
     "metadata": {},
     "output_type": "execute_result"
    }
   ],
   "source": [
    "mr_reader.rddl_model"
   ]
  },
  {
   "cell_type": "markdown",
   "metadata": {},
   "source": [
    "# RDDL Domains"
   ]
  },
  {
   "cell_type": "markdown",
   "metadata": {},
   "source": [
    "The name of the domain"
   ]
  },
  {
   "cell_type": "code",
   "execution_count": 7,
   "metadata": {},
   "outputs": [
    {
     "data": {
      "text/plain": [
       "'simple_mars_rover'"
      ]
     },
     "execution_count": 7,
     "metadata": {},
     "output_type": "execute_result"
    }
   ],
   "source": [
    "mr_reader.rddl_model.domain.name"
   ]
  },
  {
   "cell_type": "code",
   "execution_count": 8,
   "metadata": {
    "collapsed": true
   },
   "outputs": [],
   "source": [
    "domain = mr_reader.rddl_model.domain\n",
    "instance = mr_reader.rddl_model.instance"
   ]
  },
  {
   "cell_type": "markdown",
   "metadata": {},
   "source": [
    "## Requirements"
   ]
  },
  {
   "cell_type": "code",
   "execution_count": 9,
   "metadata": {},
   "outputs": [
    {
     "name": "stdout",
     "output_type": "stream",
     "text": [
      "concurrent\n",
      "reward-deterministic\n",
      "intermediate-nodes\n",
      "constrained-state\n"
     ]
    }
   ],
   "source": [
    "for req in domain.requirements:\n",
    "    print(req)"
   ]
  },
  {
   "cell_type": "markdown",
   "metadata": {},
   "source": [
    "As described [here](http://users.cecs.anu.edu.au/~ssanner/IPPC_2011/RDDL.pdf) these requirements mean:\n",
    "\n",
    " - ```concurrent``` - Multiple actions can be executed at a given time step.\n",
    " - ```reward-deterministic``` - The rewards are deterministic.\n",
    " - ```intermediate-nodes``` - The domain uses _intermediate pvariable nodes_. These are defined with the ```interm-fluent``` keyword and they're stratified. This is the device used by RDDL to ensure that the transition function is well defined, as these intermediate variables have their values defined in terms of state variables (which have a level of stratification of 0).\n",
    " - ```constrained-state``` - The domain uses _state constraints_."
   ]
  },
  {
   "cell_type": "markdown",
   "metadata": {},
   "source": [
    "## Instance Parameters"
   ]
  },
  {
   "cell_type": "code",
   "execution_count": 10,
   "metadata": {},
   "outputs": [
    {
     "data": {
      "text/plain": [
       "40"
      ]
     },
     "execution_count": 10,
     "metadata": {},
     "output_type": "execute_result"
    }
   ],
   "source": [
    "instance.horizon"
   ]
  },
  {
   "cell_type": "code",
   "execution_count": 11,
   "metadata": {},
   "outputs": [
    {
     "data": {
      "text/plain": [
       "1.0"
      ]
     },
     "execution_count": 11,
     "metadata": {},
     "output_type": "execute_result"
    }
   ],
   "source": [
    "instance.discount"
   ]
  },
  {
   "cell_type": "code",
   "execution_count": 12,
   "metadata": {},
   "outputs": [
    {
     "data": {
      "text/plain": [
       "'pos-inf'"
      ]
     },
     "execution_count": 12,
     "metadata": {},
     "output_type": "execute_result"
    }
   ],
   "source": [
    "instance.max_nondef_actions"
   ]
  },
  {
   "cell_type": "markdown",
   "metadata": {},
   "source": [
    "## Types\n",
    "\n",
    "We can access the types defined in the domain via the ```types``` attribute"
   ]
  },
  {
   "cell_type": "code",
   "execution_count": 13,
   "metadata": {},
   "outputs": [
    {
     "name": "stdout",
     "output_type": "stream",
     "text": [
      "[('picture-point', 'object')]\n"
     ]
    }
   ],
   "source": [
    "print(domain.types)"
   ]
  },
  {
   "cell_type": "markdown",
   "metadata": {},
   "source": [
    "a list of pairs of _type names_ and its parent type (or sort in Tarski's terms). The [set of built-in types](http://users.cecs.anu.edu.au/~ssanner/IPPC_2011/RDDL.pdf) in RDDL are:\n",
    "\n",
    " - ```object``` - an arbitrary set of names, it has no domain. Equivalent to Tarski's built-in ```Object``` sort.\n",
    " - ```real``` - the real numbers.\n",
    " - ```integer``` - the integer numbers. Using this type is enabled by the requirements ```integer-variables```.\n",
    " - ```bool``` - Boolean value of $\\top$ or $\\bot$.\n",
    " \n",
    "Non-built in types are specializations of ```object``` as is the case of ```picture-point``` above, and correspond directly with user-defined Tarski sorts."
   ]
  },
  {
   "cell_type": "markdown",
   "metadata": {},
   "source": [
    "## Variables\n",
    "\n",
    "RDDL variables map into FSTRIPS terms and (non-built in) atoms. Let's take a look at them:"
   ]
  },
  {
   "cell_type": "markdown",
   "metadata": {},
   "source": [
    "### Non-Fluents\n",
    "\n",
    "Non-fluent variables correspond to static terms and atoms. In the case of the Mars Rover domain we're using in this example, these are"
   ]
  },
  {
   "cell_type": "code",
   "execution_count": 14,
   "metadata": {},
   "outputs": [
    {
     "name": "stdout",
     "output_type": "stream",
     "text": [
      "Symbol: MAX_TIME/0 Signature: ('real',)\n",
      "Symbol: MOVE_VARIANCE_MULT/0 Signature: ('real',)\n",
      "Symbol: PICT_ERROR_ALLOW/1 Signature: ('picture-point', 'real')\n",
      "Symbol: PICT_YPOS/1 Signature: ('picture-point', 'real')\n",
      "Symbol: PICT_VALUE/1 Signature: ('picture-point', 'real')\n",
      "Symbol: PICT_XPOS/1 Signature: ('picture-point', 'real')\n"
     ]
    }
   ],
   "source": [
    "non_fluent_terms = domain.non_fluents\n",
    "for k, v in non_fluent_terms.items():\n",
    "    params = []\n",
    "    if v.param_types is not None:\n",
    "        params = v.param_types\n",
    "    signature = tuple(params + [v.range])\n",
    "    print('Symbol: {} Signature: {}'.format(k, signature))"
   ]
  },
  {
   "cell_type": "markdown",
   "metadata": {},
   "source": [
    "Worth noting:\n",
    " - the ```param_types``` attribute is None when the domain of the term is the empty set\n",
    " \n",
    "Associated to the RDDL instance we can find the specification of the domains of custom defined types and the actual values initially set to the set of non-fluent terms."
   ]
  },
  {
   "cell_type": "code",
   "execution_count": 15,
   "metadata": {},
   "outputs": [
    {
     "name": "stdout",
     "output_type": "stream",
     "text": [
      "pics3\n"
     ]
    }
   ],
   "source": [
    "print(instance.non_fluents)"
   ]
  },
  {
   "cell_type": "markdown",
   "metadata": {},
   "source": [
    "Rather than an object, ```pyrddl.Instance``` objects attribute ```non_fluents``` is the name of the syntactic block used to group constant declarations. The actual object is actually part of the full RDDL model specification "
   ]
  },
  {
   "cell_type": "code",
   "execution_count": 16,
   "metadata": {
    "collapsed": true
   },
   "outputs": [],
   "source": [
    "constant_symbols_def = mr_reader.rddl_model.non_fluents"
   ]
  },
  {
   "cell_type": "markdown",
   "metadata": {},
   "source": [
    "The specification of the domains of any custom types can be found on the attribute ```objects```"
   ]
  },
  {
   "cell_type": "code",
   "execution_count": 17,
   "metadata": {},
   "outputs": [
    {
     "name": "stdout",
     "output_type": "stream",
     "text": [
      "[('picture-point', ['p1', 'p2', 'p3'])]\n"
     ]
    }
   ],
   "source": [
    "print(constant_symbols_def.objects)"
   ]
  },
  {
   "cell_type": "markdown",
   "metadata": {},
   "source": [
    "and the definitions of the constant fluents are given in the list of fluent initializers ```init_non_fluent```. These consist of pairs of variable-free terms and values."
   ]
  },
  {
   "cell_type": "code",
   "execution_count": 18,
   "metadata": {},
   "outputs": [
    {
     "name": "stdout",
     "output_type": "stream",
     "text": [
      "[(('MAX_TIME', None), 12.0), (('MOVE_VARIANCE_MULT', None), 0.1), (('PICT_XPOS', ['p1']), 1.0), (('PICT_YPOS', ['p1']), -1.0), (('PICT_VALUE', ['p1']), 5.0), (('PICT_ERROR_ALLOW', ['p1']), 2), (('PICT_XPOS', ['p2']), 1.0), (('PICT_YPOS', ['p2']), 1.0), (('PICT_VALUE', ['p2']), 10.0), (('PICT_ERROR_ALLOW', ['p2']), 0.2), (('PICT_XPOS', ['p3']), 2.0), (('PICT_YPOS', ['p3']), -1.0), (('PICT_VALUE', ['p3']), 7.0), (('PICT_ERROR_ALLOW', ['p3']), 1.5)]\n"
     ]
    }
   ],
   "source": [
    "print(constant_symbols_def.init_non_fluent)"
   ]
  },
  {
   "cell_type": "markdown",
   "metadata": {},
   "source": [
    "### State and Intermediate Fluents\n",
    "\n",
    "Quantities that vary over time are represented with state and intermediate fluents. The former map directly to the notion of _state variables_ as defined by [Frances and Geffner (2015)](http://www.dtic.upf.edu/~hgeffner/guillem-icaps-2015.pdf). The latter has come up in the planning literature in a number of different ways, such as _derived predicates_ (see [Hoffman and Edelkamp (2006)](https://courses.cs.washington.edu/courses/cse473/06sp/pddl2.2.pdf) for a formulation specific to ground atomic predicates) or _correlated effects_ (see [Littmann (1997)](http://www.aaai.org/Papers/AAAI/1997/AAAI97-116.pdf) for a discussion in the context of probabilistic planning)."
   ]
  },
  {
   "cell_type": "code",
   "execution_count": 19,
   "metadata": {},
   "outputs": [
    {
     "name": "stdout",
     "output_type": "stream",
     "text": [
      "Symbol: xPos/0 Signature: ('real',)\n",
      "Symbol: picTaken/1 Signature: ('picture-point', 'bool')\n",
      "Symbol: yPos/0 Signature: ('real',)\n",
      "Symbol: time/0 Signature: ('real',)\n"
     ]
    }
   ],
   "source": [
    "state_vars = domain.state_fluents\n",
    "\n",
    "for k,v in state_vars.items():\n",
    "    params = []\n",
    "    if v.param_types is not None:\n",
    "        params = v.param_types\n",
    "    signature = tuple(params + [v.range])\n",
    "    print('Symbol: {} Signature: {}'.format(k, signature))"
   ]
  },
  {
   "cell_type": "code",
   "execution_count": 20,
   "metadata": {
    "collapsed": true
   },
   "outputs": [],
   "source": [
    "interm_vars = domain.intermediate_fluents\n",
    "\n",
    "for k,v in interm_vars.items():\n",
    "    params = []\n",
    "    if v.param_types is not None:\n",
    "        params = v.param_types\n",
    "    signature = tuple(params + [v.range])\n",
    "    print('Symbol: {} Signature: {}'.format(k, signature))"
   ]
  },
  {
   "cell_type": "markdown",
   "metadata": {},
   "source": [
    "### Action Fluents"
   ]
  },
  {
   "cell_type": "markdown",
   "metadata": {
    "collapsed": true
   },
   "source": [
    "RDDL defines actions differently from most \"traditional\" planning languages, adopting an approach which resembles the standard approach in control, where variables are divided into two sorts: \"states\" and \"inputs\". These input variables can be boolean, indicating that the actual effect is turned on or off, or a real/integer value."
   ]
  },
  {
   "cell_type": "code",
   "execution_count": 21,
   "metadata": {},
   "outputs": [
    {
     "name": "stdout",
     "output_type": "stream",
     "text": [
      "Symbol: snapPicture/0 Signature: ('bool',)\n",
      "Symbol: yMove/0 Signature: ('real',)\n",
      "Symbol: xMove/0 Signature: ('real',)\n"
     ]
    }
   ],
   "source": [
    "interm_vars = domain.action_fluents\n",
    "\n",
    "for k,v in interm_vars.items():\n",
    "    params = []\n",
    "    if v.param_types is not None:\n",
    "        params = v.param_types\n",
    "    signature = tuple(params + [v.range])\n",
    "    print('Symbol: {} Signature: {}'.format(k, signature))"
   ]
  },
  {
   "cell_type": "markdown",
   "metadata": {},
   "source": [
    "The variables ```xMove``` and ```yMove``` above represent the velocities of the Rover, which can be set directly in this model. ```snapPicture``` indicates that a picture is to be taken at that time instant. Action preconditions are actually represented as state constraints, like:\n",
    "\n",
    "$$\n",
    "    snapPicture \\supset (xMove = 0) \\land (yMove = 0)\n",
    "$$\n",
    "\n",
    "which indicate that ```snapPicture``` whenever the Rover is stationary. These precondidtions are given as expressions, combining logical and arithmetic standard operators with variables and constants."
   ]
  },
  {
   "cell_type": "code",
   "execution_count": 22,
   "metadata": {},
   "outputs": [
    {
     "name": "stdout",
     "output_type": "stream",
     "text": [
      "Expression(etype=('boolean', '=>'), args=\n",
      "    Expression(etype=('pvar', 'snapPicture'), args=('snapPicture', None))\n",
      "    Expression(etype=('boolean', '^'), args=\n",
      "        Expression(etype=('relational', '=='), args=\n",
      "            Expression(etype=('pvar', 'xMove'), args=('xMove', None))\n",
      "            Expression(etype=('number', \"<class 'float'>\"), args=0.0))\n",
      "        Expression(etype=('relational', '=='), args=\n",
      "            Expression(etype=('pvar', 'yMove'), args=('yMove', None))\n",
      "            Expression(etype=('number', \"<class 'float'>\"), args=0.0))))\n"
     ]
    }
   ],
   "source": [
    "precs = domain.preconds\n",
    "\n",
    "for prec in domain.preconds:\n",
    "    print(prec)"
   ]
  },
  {
   "cell_type": "markdown",
   "metadata": {},
   "source": [
    "### Translating Preconditions"
   ]
  },
  {
   "cell_type": "code",
   "execution_count": 23,
   "metadata": {
    "collapsed": true
   },
   "outputs": [],
   "source": [
    "import tarski.syntax as ts\n",
    "import tarski.syntax.arithmetic as tm\n",
    "import tarski.syntax.arithmetic.special as tmsp"
   ]
  },
  {
   "cell_type": "code",
   "execution_count": 24,
   "metadata": {},
   "outputs": [
    {
     "name": "stdout",
     "output_type": "stream",
     "text": [
      "(not (snapPicture()) or (=(xMove(),0.0) and =(yMove(),0.0)))\n"
     ]
    }
   ],
   "source": [
    "for prec in domain.preconds:\n",
    "    t_prec = rddl.translate_expression( mr_reader.language, prec)\n",
    "    print(str(t_prec))"
   ]
  },
  {
   "cell_type": "markdown",
   "metadata": {},
   "source": [
    "### Action Constraints"
   ]
  },
  {
   "cell_type": "code",
   "execution_count": 25,
   "metadata": {
    "collapsed": true
   },
   "outputs": [],
   "source": [
    "act_constraints = domain.constraints\n",
    "\n",
    "for C in act_constraints:\n",
    "    print(C)"
   ]
  },
  {
   "cell_type": "markdown",
   "metadata": {},
   "source": [
    "### State Constraints\n",
    "\n",
    "RDDL _state invariants_ correspond to state constraints, that define the set of valid states"
   ]
  },
  {
   "cell_type": "code",
   "execution_count": 26,
   "metadata": {
    "collapsed": true
   },
   "outputs": [],
   "source": [
    "invariants = domain.invariants\n",
    "\n",
    "for I in invariants:\n",
    "    print(I)"
   ]
  },
  {
   "cell_type": "markdown",
   "metadata": {},
   "source": [
    "### Conditional Probabilistic Functions"
   ]
  },
  {
   "cell_type": "code",
   "execution_count": 27,
   "metadata": {
    "scrolled": false
   },
   "outputs": [],
   "source": [
    "for f in domain.state_cpfs:\n",
    "    #print(f.pvar)\n",
    "    lhs = rddl.translate_expression(mr_reader.language, f.pvar)\n",
    "    #print(lhs)\n",
    "    cpfs_k = rddl.translate_expression(mr_reader.language, f.expr)\n",
    "    #print('CPFS: lhs: {} rhs: {}'.format(lhs, cpfs_k))"
   ]
  },
  {
   "cell_type": "code",
   "execution_count": 28,
   "metadata": {
    "collapsed": true
   },
   "outputs": [],
   "source": [
    "for f in domain.intermediate_cpfs:\n",
    "    print(f)"
   ]
  },
  {
   "cell_type": "markdown",
   "metadata": {},
   "source": [
    "## Initial States"
   ]
  },
  {
   "cell_type": "code",
   "execution_count": 30,
   "metadata": {},
   "outputs": [
    {
     "data": {
      "text/plain": [
       "'pos-inf'"
      ]
     },
     "execution_count": 30,
     "metadata": {},
     "output_type": "execute_result"
    }
   ],
   "source": [
    "instance.max_nondef_actions"
   ]
  },
  {
   "cell_type": "code",
   "execution_count": 31,
   "metadata": {},
   "outputs": [
    {
     "data": {
      "text/plain": [
       "1.0"
      ]
     },
     "execution_count": 31,
     "metadata": {},
     "output_type": "execute_result"
    }
   ],
   "source": [
    "instance.discount"
   ]
  },
  {
   "cell_type": "code",
   "execution_count": 32,
   "metadata": {},
   "outputs": [
    {
     "data": {
      "text/plain": [
       "40"
      ]
     },
     "execution_count": 32,
     "metadata": {},
     "output_type": "execute_result"
    }
   ],
   "source": [
    "instance.horizon"
   ]
  },
  {
   "cell_type": "code",
   "execution_count": 33,
   "metadata": {},
   "outputs": [
    {
     "name": "stdout",
     "output_type": "stream",
     "text": [
      "[(('xPos', None), 0.0), (('yPos', None), 0.0), (('time', None), 0.0)]\n"
     ]
    }
   ],
   "source": [
    "print(instance.init_state)"
   ]
  },
  {
   "cell_type": "code",
   "execution_count": null,
   "metadata": {
    "collapsed": true
   },
   "outputs": [],
   "source": []
  }
 ],
 "metadata": {
  "kernelspec": {
   "display_name": "Python 3",
   "language": "python",
   "name": "python3"
  },
  "language_info": {
   "codemirror_mode": {
    "name": "ipython",
    "version": 3
   },
   "file_extension": ".py",
   "mimetype": "text/x-python",
   "name": "python",
   "nbconvert_exporter": "python",
   "pygments_lexer": "ipython3",
   "version": "3.5.2"
  }
 },
 "nbformat": 4,
 "nbformat_minor": 2
}

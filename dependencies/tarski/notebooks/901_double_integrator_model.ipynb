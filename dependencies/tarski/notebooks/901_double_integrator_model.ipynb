{
 "cells": [
  {
   "cell_type": "code",
   "execution_count": 1,
   "metadata": {
    "collapsed": true
   },
   "outputs": [],
   "source": [
    "import sys\n",
    "sys.path = ['../../src'] + sys.path # this ensures the notebook uses the source version of Tarski"
   ]
  },
  {
   "cell_type": "code",
   "execution_count": 2,
   "metadata": {},
   "outputs": [],
   "source": [
    "import tarski\n",
    "from tarski.theories import Theory\n",
    "from tarski.syntax import *\n",
    "from tarski.io import rddl\n",
    "from tarski.model import Model\n",
    "from tarski.evaluators.simple import evaluate\n",
    "from tarski.syntax.arithmetic import *\n",
    "from tarski.syntax.arithmetic.special import *\n",
    "from tarski.syntax.arithmetic.random import *"
   ]
  },
  {
   "cell_type": "code",
   "execution_count": 3,
   "metadata": {
    "collapsed": true
   },
   "outputs": [],
   "source": [
    "import numpy"
   ]
  },
  {
   "cell_type": "markdown",
   "metadata": {},
   "source": [
    "# Modeling a reach task with a Double Integrator in Tarski"
   ]
  },
  {
   "cell_type": "markdown",
   "metadata": {},
   "source": [
    "In this tutorial we will show how we can specify a simple linear dynamic system (or _plant_) using [scaling chains of integrators](https://fmrchallenge.org/integrator_chains.html). In particular, we will consider a fully observable, noise-free _double integrator_. \n",
    "\n",
    "Such specifications are one of the most fundamental systems in control applications, representing single-degree-of-freedom translational and rotational motion. Applications of the double integrator include low-friction, free rigid-body motion, such as single-axis spacecraft rotation and rotary crane motion. Control of the double integrator has been of interest since the early days of control theory when it was used extensively to illustrate minimum-time and minimum-fuel controllers. For further background, check out [this reference](http://ieeecss.org/CSM/library/2001/oct01/naivecontrol.pdf). "
   ]
  },
  {
   "cell_type": "markdown",
   "metadata": {},
   "source": [
    "We start defining the first order language that we'll use to define state, control variables and the constraints"
   ]
  },
  {
   "cell_type": "code",
   "execution_count": 4,
   "metadata": {
    "collapsed": true
   },
   "outputs": [],
   "source": [
    "lang = tarski.language('double_integrator', [Theory.EQUALITY, Theory.ARITHMETIC, Theory.SPECIAL, Theory.RANDOM])"
   ]
  },
  {
   "cell_type": "markdown",
   "metadata": {},
   "source": [
    "Note that we're loading theories for equality, arithmetics, special functions and random variates. \n",
    "\n",
    "Since we're modeling the behaviour of one or more vehicles, and possibly obstacles too, we define the sort _vehicle_ to organise our objects"
   ]
  },
  {
   "cell_type": "code",
   "execution_count": 5,
   "metadata": {
    "collapsed": true
   },
   "outputs": [],
   "source": [
    "vehicle = lang.sort('vehicle', lang.Object)"
   ]
  },
  {
   "cell_type": "markdown",
   "metadata": {},
   "source": [
    "## States"
   ]
  },
  {
   "cell_type": "markdown",
   "metadata": {},
   "source": [
    "We describe the position and velocities of vehicles with four functions that map vehicles to the reals"
   ]
  },
  {
   "cell_type": "code",
   "execution_count": 6,
   "metadata": {
    "collapsed": true
   },
   "outputs": [],
   "source": [
    "# state variables\n",
    "x = lang.function('x', vehicle, lang.Real)\n",
    "y = lang.function('y', vehicle, lang.Real)\n",
    "vx = lang.function('vx', vehicle, lang.Real)\n",
    "vy = lang.function('vy', vehicle, lang.Real)"
   ]
  },
  {
   "cell_type": "markdown",
   "metadata": {},
   "source": [
    "Control inputs - the second derivatives or _accelerations_ - are represented also with two functions"
   ]
  },
  {
   "cell_type": "code",
   "execution_count": 7,
   "metadata": {
    "collapsed": true
   },
   "outputs": [],
   "source": [
    "# control variables\n",
    "ux = lang.function('ux', vehicle, lang.Real)\n",
    "uy = lang.function('uy', vehicle, lang.Real)"
   ]
  },
  {
   "cell_type": "markdown",
   "metadata": {},
   "source": [
    "In this tutorial we will consider a single vehicle, which we declare like this"
   ]
  },
  {
   "cell_type": "code",
   "execution_count": 8,
   "metadata": {
    "collapsed": true
   },
   "outputs": [],
   "source": [
    "# object\n",
    "v_1 = lang.constant('v_1', vehicle)"
   ]
  },
  {
   "cell_type": "markdown",
   "metadata": {},
   "source": [
    "## Defining the Task"
   ]
  },
  {
   "cell_type": "markdown",
   "metadata": {},
   "source": [
    "A very general class of tasks are those corresponding to so--called _Reach-Avoid_ specifications that can be represented with the following LTL formula\n",
    "\n",
    "$$\n",
    "q(0) = x_0 \\land (\\square q(t) \\notin Obs) \\land \\bigwedge_i \\square \\lozenge goal_i\n",
    "$$\n",
    "\n",
    "where $q(t)$ is the _configuration_ of the system (e.g. valuations of the terms describing the system state and inputs) at time $t$, $x_0$ is an arbitrary initial configuration, $Obs$ is the _obstacle set_ respresented by the finite union of the volume of geometric objects representing ``no-go`` areas, and $goal_i$ is a formula over the terms making up $q(t)$ that is verified by any configuration _within_ the volume of a geometric object centered at the _goal_ or _target_ region.\n",
    "\n",
    "More generally, the second and third parts of the specification above are referred to as _state invariants_ or _state constraints_, and _goal constraint_, respectively."
   ]
  },
  {
   "cell_type": "markdown",
   "metadata": {},
   "source": [
    "In this example we do not have obstacles, so we only need to define the initial configuration and the goal constraint. For the latter, we need to introduce two new functions"
   ]
  },
  {
   "cell_type": "code",
   "execution_count": 9,
   "metadata": {
    "collapsed": true
   },
   "outputs": [],
   "source": [
    "# target\n",
    "gx = lang.function('gx', lang.Real)\n",
    "gy = lang.function('gy', lang.Real)"
   ]
  },
  {
   "cell_type": "markdown",
   "metadata": {},
   "source": [
    "that designate the coordinates of the goal. We define their value and that of the initial configuration $q(0)$ by means of constructing a _model_ "
   ]
  },
  {
   "cell_type": "code",
   "execution_count": 10,
   "metadata": {
    "collapsed": true
   },
   "outputs": [],
   "source": [
    "x0 = Model(lang)\n",
    "x0.evaluator = evaluate"
   ]
  },
  {
   "cell_type": "markdown",
   "metadata": {},
   "source": [
    "and setting the values associated with each of the terms that make up the description of the system. To wit"
   ]
  },
  {
   "cell_type": "markdown",
   "metadata": {},
   "source": [
    "- Initial position and velocity of the vehicle $v$, e.g. $x(v)$, $y(v)$, $vx(v)$ and $vy(v)$"
   ]
  },
  {
   "cell_type": "code",
   "execution_count": 11,
   "metadata": {},
   "outputs": [],
   "source": [
    "x0.set(x(v_1), 0.5) # x(v_1) = 0.5\n",
    "x0.set(y(v_1), 0.5) # y(v_1) = 0.5\n",
    "x0.set(vx(v_1), 0.0) # vx(v_1) = 0.5\n",
    "x0.set(vy(v_1), 0.0) # vy(v_1) = 0.5"
   ]
  },
  {
   "cell_type": "markdown",
   "metadata": {},
   "source": [
    " - Initial control inputs"
   ]
  },
  {
   "cell_type": "code",
   "execution_count": 12,
   "metadata": {
    "collapsed": true
   },
   "outputs": [],
   "source": [
    "x0.set(ux(v_1), 0.0) # ux(v_1) = 0.0\n",
    "x0.set(uy(v_1), 0.0) # uy(v_1) = 0.0"
   ]
  },
  {
   "cell_type": "markdown",
   "metadata": {},
   "source": [
    "- And the coordinates of the goal"
   ]
  },
  {
   "cell_type": "code",
   "execution_count": 13,
   "metadata": {
    "collapsed": true
   },
   "outputs": [],
   "source": [
    "x0.set(gx(), 5.5)\n",
    "x0.set(gx(), 2.0)"
   ]
  },
  {
   "cell_type": "markdown",
   "metadata": {},
   "source": [
    "For the goal constraint, we choose to represent the states deemed as acceptable terminal states by specifying an axis aligned box centered on $(g_x, g_y)$"
   ]
  },
  {
   "cell_type": "markdown",
   "metadata": {},
   "source": [
    "$$goal_0 \\equiv (g_x - 0.5) \\leq x(v_{1}) \\leq (g_x + 0.5)$$"
   ]
  },
  {
   "cell_type": "code",
   "execution_count": 14,
   "metadata": {},
   "outputs": [],
   "source": [
    "goal_0 = ((gx() - 0.5) <= x(v_1)) & (x(v_1) <= (gx() + 0.5))"
   ]
  },
  {
   "cell_type": "markdown",
   "metadata": {},
   "source": [
    "$$goal_1 \\equiv (g_y - 0.5) \\leq y(v_{1}) \\leq (g_y + 0.5)$$"
   ]
  },
  {
   "cell_type": "code",
   "execution_count": 15,
   "metadata": {
    "collapsed": true
   },
   "outputs": [],
   "source": [
    "goal_1 = ((gy() - 0.5) <= y(v_1)) & (y(v_1) <= (gy() + 0.5))"
   ]
  },
  {
   "cell_type": "markdown",
   "metadata": {},
   "source": [
    "Verifying that the ``eventually`` ($\\lozenge$) in the goal specification is satisfied by a configuration $q(t)$ amounts to evaluating expression\n",
    "\n",
    "$$[\\bigwedge_i goal_i]^{q(t)}$$\n",
    "\n",
    "where each of the terms in $goal_1$ and $goal_0$ are replaced by the values assigned by the configuration $q(t)$. We can do this for $q(0)$ which is implicitly represented by the model object ```x0```"
   ]
  },
  {
   "cell_type": "code",
   "execution_count": 16,
   "metadata": {},
   "outputs": [
    {
     "data": {
      "text/plain": [
       "False"
      ]
     },
     "execution_count": 16,
     "metadata": {},
     "output_type": "execute_result"
    }
   ],
   "source": [
    "x0[goal_0 & goal_1]"
   ]
  },
  {
   "cell_type": "markdown",
   "metadata": {},
   "source": [
    "which turns out to be false."
   ]
  },
  {
   "cell_type": "markdown",
   "metadata": {},
   "source": [
    "Ensuring that the $\\square$ in goal constraint is more complicated. The property represented by the temporal operator is that our system remains in any state _within_ the region around the goal _infinitely often_. This may prove to be impossible when there is a random _perturbation_ making a contribution to the evolution of the state variables over time. \n",
    "\n",
    "Also for some systems, by discretizing time $t$, it may be the case that the duration of the control cycle and discretization time step, is such that it is not possible to steer the system in a timely fashion so as to keep it inside the region around the goal."
   ]
  },
  {
   "cell_type": "markdown",
   "metadata": {},
   "source": [
    "In this tutorial we relax slightly the requirements posed  by $\\square$, so that the configurations $q(t)$ the system is in are _as often as possible_ within the target region. For that, we will define a quadratic cost function\n",
    "\n",
    "$$ J = \\sum_{k} (q(k)-G)^T Q (q(k)-G)$$\n",
    "\n",
    "where Q is a positive definite matrix, and G is the column vector $[g_x\\ g_y]^T$. Optimal inifite sequences of control inputs $U^{*}$ that _maximize_ the number of time steps that the system is inside the target region are those that minimize $J$. We define the cost matrix $Q$ as follows"
   ]
  },
  {
   "cell_type": "code",
   "execution_count": 17,
   "metadata": {
    "collapsed": true
   },
   "outputs": [],
   "source": [
    "Q = lang.matrix([[1, 0, 0, 0], [0, 1, 0, 0], [0, 0, 0, 0], [0, 0, 0, 0]], lang.Real)"
   ]
  },
  {
   "cell_type": "markdown",
   "metadata": {},
   "source": [
    "Now we need to arrange the terms describing configurations $q()$ and the goal as vectors"
   ]
  },
  {
   "cell_type": "code",
   "execution_count": 18,
   "metadata": {},
   "outputs": [],
   "source": [
    "q = lang.vector([x(v_1), y(v_1), vx(v_1), vy(v_1)], lang.Real)"
   ]
  },
  {
   "cell_type": "markdown",
   "metadata": {},
   "source": [
    "and"
   ]
  },
  {
   "cell_type": "code",
   "execution_count": 19,
   "metadata": {
    "collapsed": true
   },
   "outputs": [],
   "source": [
    "G = lang.vector([gx(), gy(), 0.0, 0.0], lang.Real)"
   ]
  },
  {
   "cell_type": "markdown",
   "metadata": {},
   "source": [
    "The instantaneous cost can then be written as follows"
   ]
  },
  {
   "cell_type": "code",
   "execution_count": 20,
   "metadata": {},
   "outputs": [],
   "source": [
    "stage_cost = transpose(q-G) * Q * (q-G)"
   ]
  },
  {
   "cell_type": "markdown",
   "metadata": {},
   "source": [
    "if we print ```stage_cost``` we will get the expression represented as a series of nested arithmetic operations in in prefix notation"
   ]
  },
  {
   "cell_type": "code",
   "execution_count": 21,
   "metadata": {},
   "outputs": [
    {
     "name": "stdout",
     "output_type": "stream",
     "text": [
      "*(*(-([[x(v_1) y(v_1) vx(v_1) vy(v_1)]], [[gx() gy() 0.0 (Real) 0.0 (Real)]]), [[1.0 (Real) 0.0 (Real) 0.0 (Real) 0.0 (Real)]\n",
      " [0.0 (Real) 1.0 (Real) 0.0 (Real) 0.0 (Real)]\n",
      " [0.0 (Real) 0.0 (Real) 0.0 (Real) 0.0 (Real)]\n",
      " [0.0 (Real) 0.0 (Real) 0.0 (Real) 0.0 (Real)]]), -([[x(v_1)]\n",
      " [y(v_1)]\n",
      " [vx(v_1)]\n",
      " [vy(v_1)]], [[gx()]\n",
      " [gy()]\n",
      " [0.0 (Real)]\n",
      " [0.0 (Real)]]))\n"
     ]
    }
   ],
   "source": [
    "print(stage_cost)"
   ]
  },
  {
   "cell_type": "markdown",
   "metadata": {},
   "source": [
    "We note that the above is not meant to be readable, ```Tarski``` aims at offering an abstract, flexible representation for constraints and expressions to interface with third-party solvers, as well as some tools to ease the task of _compiling_ ```Tarski``` syntactic trees into the languages/formalisms supported by planners, SMT solvers or mathematical programming suites."
   ]
  },
  {
   "cell_type": "markdown",
   "metadata": {},
   "source": [
    "## Constraints"
   ]
  },
  {
   "cell_type": "markdown",
   "metadata": {},
   "source": [
    "The specification above is of little use without a definition of an underlying transition system. For that, we will discretize the set of (linear) ordinary differential equations \n",
    "\n",
    "$$\n",
    "\\dot{q} = A q + B u\n",
    "$$\n",
    "\n",
    "with the explicit Euler method, so that\n",
    "\n",
    "$$\n",
    "q(t) = q(t-1) +  (A q(t-1) + B u)\\Delta t\n",
    "$$\n",
    "\n",
    "where $\\Delta t$, or discretization step, is the integration time step as well."
   ]
  },
  {
   "cell_type": "markdown",
   "metadata": {},
   "source": [
    "### Dynamics"
   ]
  },
  {
   "cell_type": "markdown",
   "metadata": {},
   "source": [
    "We start defining $\\Delta t$"
   ]
  },
  {
   "cell_type": "code",
   "execution_count": 22,
   "metadata": {},
   "outputs": [],
   "source": [
    "dt = lang.function('dt', lang.Real)"
   ]
  },
  {
   "cell_type": "markdown",
   "metadata": {},
   "source": [
    "The _state matrix_ $A$ describes how the state variables interact with each other, modeling this interaction as a _linear combination_. "
   ]
  },
  {
   "cell_type": "code",
   "execution_count": 23,
   "metadata": {
    "collapsed": true
   },
   "outputs": [],
   "source": [
    "A = lang.matrix([[0, 0, 1, 0], [0, 0, 0, 1], [0, 0, 0, 0], [0, 0, 0, 0]], lang.Real)"
   ]
  },
  {
   "cell_type": "code",
   "execution_count": 24,
   "metadata": {},
   "outputs": [
    {
     "name": "stdout",
     "output_type": "stream",
     "text": [
      "[[0.0 (Real) 0.0 (Real) 1.0 (Real) 0.0 (Real)]\n",
      " [0.0 (Real) 0.0 (Real) 0.0 (Real) 1.0 (Real)]\n",
      " [0.0 (Real) 0.0 (Real) 0.0 (Real) 0.0 (Real)]\n",
      " [0.0 (Real) 0.0 (Real) 0.0 (Real) 0.0 (Real)]]\n"
     ]
    }
   ],
   "source": [
    "print(A)"
   ]
  },
  {
   "cell_type": "markdown",
   "metadata": {},
   "source": [
    "the matrix above indicates that the _couplings_ between state variables are a very simple graph made of two connected components (two chains, with two vertices each). We can obtain the equations for the _autonomous response_ of the system multiplying the ```numpy``` matrices we use to implement these groups of terms"
   ]
  },
  {
   "cell_type": "code",
   "execution_count": 25,
   "metadata": {},
   "outputs": [
    {
     "name": "stdout",
     "output_type": "stream",
     "text": [
      "delta x(v_1) / delta t = vx(v_1)\n",
      "delta y(v_1) / delta t = vy(v_1)\n",
      "delta vx(v_1) / delta t = 0.0\n",
      "delta vy(v_1) / delta t = 0.0\n"
     ]
    }
   ],
   "source": [
    "homogenous=simplify(A.matrix * q.matrix)\n",
    "\n",
    "for i in range(q.shape[0]):\n",
    "    print('delta {} / delta t = {}'.format(q.matrix[i,0], homogenous[i,0]))"
   ]
  },
  {
   "cell_type": "markdown",
   "metadata": {},
   "source": [
    "note the use of the function ```simplify()``` to obtain a \"clean\" expression for the derivatives.\n",
    "\n",
    "The response to the inputs is given by the following matrix"
   ]
  },
  {
   "cell_type": "code",
   "execution_count": 26,
   "metadata": {
    "collapsed": true
   },
   "outputs": [],
   "source": [
    "B = lang.matrix([[0, 0], [0, 0], [1, 0], [0, 1]], lang.Real)"
   ]
  },
  {
   "cell_type": "markdown",
   "metadata": {},
   "source": [
    "that indicates that inputs only affect the velocities"
   ]
  },
  {
   "cell_type": "code",
   "execution_count": 27,
   "metadata": {},
   "outputs": [
    {
     "name": "stdout",
     "output_type": "stream",
     "text": [
      "[[0.0 (Real) 0.0 (Real)]\n",
      " [0.0 (Real) 0.0 (Real)]\n",
      " [1.0 (Real) 0.0 (Real)]\n",
      " [0.0 (Real) 1.0 (Real)]]\n"
     ]
    }
   ],
   "source": [
    "print(B)"
   ]
  },
  {
   "cell_type": "markdown",
   "metadata": {},
   "source": [
    "We group the terms for the system inputs in a column vector"
   ]
  },
  {
   "cell_type": "code",
   "execution_count": 28,
   "metadata": {},
   "outputs": [],
   "source": [
    "u = lang.vector([ux(v_1), uy(v_1)], lang.Real)"
   ]
  },
  {
   "cell_type": "markdown",
   "metadata": {},
   "source": [
    "and obtain the full set of differential equations"
   ]
  },
  {
   "cell_type": "code",
   "execution_count": 29,
   "metadata": {},
   "outputs": [
    {
     "name": "stdout",
     "output_type": "stream",
     "text": [
      "delta x(v_1) / delta t = vx(v_1)\n",
      "delta y(v_1) / delta t = vy(v_1)\n",
      "delta vx(v_1) / delta t = ux(v_1)\n",
      "delta vy(v_1) / delta t = uy(v_1)\n"
     ]
    }
   ],
   "source": [
    "non_homogenous=simplify(B.matrix * u.matrix)\n",
    "\n",
    "for i in range(q.shape[0]):\n",
    "    print('delta {} / delta t = {}'.format(q.matrix[i,0], simplify(homogenous[i,0] + non_homogenous[i,0])))"
   ]
  },
  {
   "cell_type": "markdown",
   "metadata": {},
   "source": [
    "Alternatively, the dynamic constraint can be expressed as well in its abstract form, enabling alternative rewritings"
   ]
  },
  {
   "cell_type": "code",
   "execution_count": 31,
   "metadata": {},
   "outputs": [
    {
     "data": {
      "text/plain": [
       "+(*([[0.0 (Real) 0.0 (Real) 1.0 (Real) 0.0 (Real)]\n",
       " [0.0 (Real) 0.0 (Real) 0.0 (Real) 1.0 (Real)]\n",
       " [0.0 (Real) 0.0 (Real) 0.0 (Real) 0.0 (Real)]\n",
       " [0.0 (Real) 0.0 (Real) 0.0 (Real) 0.0 (Real)]], [[x(v_1)]\n",
       " [y(v_1)]\n",
       " [vx(v_1)]\n",
       " [vy(v_1)]]), *(dt(), *([[0.0 (Real) 0.0 (Real)]\n",
       " [0.0 (Real) 0.0 (Real)]\n",
       " [1.0 (Real) 0.0 (Real)]\n",
       " [0.0 (Real) 1.0 (Real)]], [[ux(v_1)]\n",
       " [uy(v_1)]])))"
      ]
     },
     "execution_count": 31,
     "metadata": {},
     "output_type": "execute_result"
    }
   ],
   "source": [
    "A * q + dt() * (B * u)"
   ]
  },
  {
   "cell_type": "code",
   "execution_count": null,
   "metadata": {
    "collapsed": true
   },
   "outputs": [],
   "source": []
  }
 ],
 "metadata": {
  "kernelspec": {
   "display_name": "Python 3",
   "language": "python",
   "name": "python3"
  },
  "language_info": {
   "codemirror_mode": {
    "name": "ipython",
    "version": 3
   },
   "file_extension": ".py",
   "mimetype": "text/x-python",
   "name": "python",
   "nbconvert_exporter": "python",
   "pygments_lexer": "ipython3",
   "version": "3.5.2"
  }
 },
 "nbformat": 4,
 "nbformat_minor": 2
}
